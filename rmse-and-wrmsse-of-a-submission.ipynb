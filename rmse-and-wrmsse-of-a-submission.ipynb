{
 "cells": [
  {
   "cell_type": "markdown",
   "metadata": {},
   "source": [
    "# Note\n",
    "\n",
    "This notebook is based on [for_Japanese_beginner(with WRMSSE in LGBM))](https://www.kaggle.com/girmdshinsei/for-japanese-beginner-with-wrmsse-in-lgbm)\n",
    "\n",
    "I just organised everything as a simple function so anyone could use it to evaluate their models."
   ]
  },
  {
   "cell_type": "code",
   "execution_count": 1,
   "metadata": {
    "_cell_guid": "b1076dfc-b9ad-4769-8c92-a6c4dae69d19",
    "_uuid": "8f2839f25d086af736a60e9eeb907d3b93b6e0e5"
   },
   "outputs": [],
   "source": [
    "import numpy as np\n",
    "import pandas as pd"
   ]
  },
  {
   "cell_type": "code",
   "execution_count": 2,
   "metadata": {
    "_cell_guid": "79c7e3d0-c299-4dcb-8224-4455121ee9b0",
    "_uuid": "d629ff2d2480ee46fbb7e2d37f6b5fab8052498a"
   },
   "outputs": [],
   "source": [
    "def reduce_mem_usage(df, verbose=True):\n",
    "    numerics = ['int16', 'int32', 'int64', 'float16', 'float32', 'float64']\n",
    "    start_mem = df.memory_usage().sum() / 1024**2    \n",
    "    for col in df.columns: #columns毎に処理\n",
    "        col_type = df[col].dtypes\n",
    "        if col_type in numerics: #numericsのデータ型の範囲内のときに処理を実行. データの最大最小値を元にデータ型を効率的なものに変更\n",
    "            c_min = df[col].min()\n",
    "            c_max = df[col].max()\n",
    "            if str(col_type)[:3] == 'int':\n",
    "                if c_min > np.iinfo(np.int8).min and c_max < np.iinfo(np.int8).max:\n",
    "                    df[col] = df[col].astype(np.int8)\n",
    "                elif c_min > np.iinfo(np.int16).min and c_max < np.iinfo(np.int16).max:\n",
    "                    df[col] = df[col].astype(np.int16)\n",
    "                elif c_min > np.iinfo(np.int32).min and c_max < np.iinfo(np.int32).max:\n",
    "                    df[col] = df[col].astype(np.int32)\n",
    "                elif c_min > np.iinfo(np.int64).min and c_max < np.iinfo(np.int64).max:\n",
    "                    df[col] = df[col].astype(np.int64)  \n",
    "            else:\n",
    "                if c_min > np.finfo(np.float16).min and c_max < np.finfo(np.float16).max:\n",
    "                    df[col] = df[col].astype(np.float16)\n",
    "                elif c_min > np.finfo(np.float32).min and c_max < np.finfo(np.float32).max:\n",
    "                    df[col] = df[col].astype(np.float32)\n",
    "                else:\n",
    "                    df[col] = df[col].astype(np.float64)    \n",
    "    end_mem = df.memory_usage().sum() / 1024**2\n",
    "    if verbose: print('Mem. usage decreased to {:5.2f} Mb ({:.1f}% reduction)'.format(end_mem, 100 * (start_mem - end_mem) / start_mem))\n",
    "    return df"
   ]
  },
  {
   "cell_type": "code",
   "execution_count": 4,
   "metadata": {},
   "outputs": [
    {
     "name": "stdout",
     "output_type": "stream",
     "text": [
      "Mem. usage decreased to  0.12 Mb (41.9% reduction)\n",
      "Calendar has 1969 rows and 14 columns\n",
      "Mem. usage decreased to 130.48 Mb (37.5% reduction)\n",
      "Sell prices has 6841121 rows and 4 columns\n",
      "Sales train validation has 30490 rows and 1919 columns\n"
     ]
    }
   ],
   "source": [
    "\n",
    "calendar = pd.read_csv('inputs/calendar.csv')\n",
    "calendar = reduce_mem_usage(calendar)\n",
    "print('Calendar has {} rows and {} columns'.format(calendar.shape[0], calendar.shape[1]))\n",
    "\n",
    "sell_prices = pd.read_csv('inputs/sell_prices.csv')\n",
    "sell_prices = reduce_mem_usage(sell_prices)\n",
    "print('Sell prices has {} rows and {} columns'.format(sell_prices.shape[0], sell_prices.shape[1]))\n",
    "\n",
    "sales = pd.read_csv('inputs/sales_train_validation.csv')\n",
    "print('Sales train validation has {} rows and {} columns'.format(sales.shape[0], sales.shape[1]))"
   ]
  },
  {
   "cell_type": "markdown",
   "metadata": {},
   "source": [
    "### Load your submission"
   ]
  },
  {
   "cell_type": "code",
   "execution_count": 5,
   "metadata": {},
   "outputs": [],
   "source": [
    "sample_submission = pd.read_csv('inputs/sample_submission.csv')\n",
    "sample_submission = sample_submission[sample_submission.id.str.endswith('validation')]\n",
    "\n",
    "NUM_ITEMS = sales.shape[0]    # 30490\n",
    "DAYS_PRED = sample_submission.shape[1] - 1    # 28\n",
    "\n",
    "# To make it simpler, I will run only the last 10 days\n",
    "DAYS_PRED = 10"
   ]
  },
  {
   "cell_type": "markdown",
   "metadata": {},
   "source": [
    "# RSME"
   ]
  },
  {
   "cell_type": "code",
   "execution_count": 6,
   "metadata": {},
   "outputs": [],
   "source": [
    "def transform(df):\n",
    "    newdf = df.melt(id_vars=[\"id\"], var_name=\"d\", value_name=\"sale\")\n",
    "    newdf.sort_values(by=['id', \"d\"], inplace=True)\n",
    "    newdf.reset_index(inplace=True)\n",
    "    return newdf\n",
    "\n",
    "from sklearn.metrics import mean_squared_error\n",
    "\n",
    "def rmse(df, gt):\n",
    "    df = transform(df)\n",
    "    gt = transform(gt)\n",
    "    return mean_squared_error(df[\"sale\"], gt[\"sale\"])\n"
   ]
  },
  {
   "cell_type": "code",
   "execution_count": 7,
   "metadata": {},
   "outputs": [],
   "source": [
    "\n",
    "dayCols = [\"d_{}\".format(i) for i in range(1904, 1904+DAYS_PRED)]\n",
    "gt = sales[[\"id\"]+dayCols]\n",
    "\n",
    "dayCols = [\"F{}\".format(i) for i in range(1, DAYS_PRED+1)]\n",
    "df = sample_submission[[\"id\"]+dayCols]"
   ]
  },
  {
   "cell_type": "code",
   "execution_count": 8,
   "metadata": {},
   "outputs": [
    {
     "data": {
      "text/plain": [
       "14.980924893407675"
      ]
     },
     "execution_count": 8,
     "metadata": {},
     "output_type": "execute_result"
    }
   ],
   "source": [
    "# RSME score\n",
    "rmse(df, gt)"
   ]
  },
  {
   "cell_type": "markdown",
   "metadata": {},
   "source": [
    "# WRMSSE"
   ]
  },
  {
   "cell_type": "markdown",
   "metadata": {},
   "source": [
    "The very simplify version of WRMSSE is\n",
    "\\begin{equation}\n",
    "WRMSSE = \\sum_{i=1}^{42840} (W2_i * \\sqrt{\\frac{\\sum{(y-y')^2}}{W1}})\n",
    "\\end{equation}\n",
    "\n",
    "So the functions below will be seperated into `cal_weight1` and `cal_weight2`. Then, it will be merged together into `wrmsse`\n",
    "\n",
    "````\n",
    "PS. 42840 is the number of series that will be evaluated here.\n",
    "````"
   ]
  },
  {
   "cell_type": "code",
   "execution_count": 9,
   "metadata": {},
   "outputs": [],
   "source": [
    "import gc\n",
    "from scipy.sparse import csr_matrix"
   ]
  },
  {
   "cell_type": "code",
   "execution_count": 10,
   "metadata": {},
   "outputs": [
    {
     "data": {
      "text/plain": [
       "(array([[1, 1, 1, ..., 1, 1, 1],\n",
       "        [1, 1, 1, ..., 0, 0, 0],\n",
       "        [0, 0, 0, ..., 0, 0, 0],\n",
       "        ...,\n",
       "        [0, 0, 0, ..., 1, 0, 0],\n",
       "        [0, 0, 0, ..., 0, 1, 0],\n",
       "        [0, 0, 0, ..., 0, 0, 1]], dtype=int8),\n",
       " (42840, 30490))"
      ]
     },
     "execution_count": 10,
     "metadata": {},
     "output_type": "execute_result"
    }
   ],
   "source": [
    "# Get list of all products\n",
    "idcols = [\"id\", \"item_id\", \"state_id\", \"store_id\", \"cat_id\", \"dept_id\"]\n",
    "product = sales[idcols]\n",
    "\n",
    "# create weight matrix\n",
    "pd.get_dummies(product.state_id, drop_first=False)\n",
    "weight_mat = np.c_[\n",
    "   np.ones([NUM_ITEMS,1]).astype(np.int8), # level 1\n",
    "   pd.get_dummies(product.state_id, drop_first=False).values,\n",
    "   pd.get_dummies(product.store_id, drop_first=False).values,\n",
    "   pd.get_dummies(product.cat_id, drop_first=False).values,\n",
    "   pd.get_dummies(product.dept_id, drop_first=False).values,\n",
    "   pd.get_dummies(product.state_id + product.cat_id, drop_first=False).values,\n",
    "   pd.get_dummies(product.state_id + product.dept_id, drop_first=False).values,\n",
    "   pd.get_dummies(product.store_id + product.cat_id, drop_first=False).values,\n",
    "   pd.get_dummies(product.store_id + product.dept_id, drop_first=False).values,\n",
    "   pd.get_dummies(product.item_id, drop_first=False).values,\n",
    "   pd.get_dummies(product.state_id + product.item_id, drop_first=False).values,\n",
    "   np.identity(NUM_ITEMS).astype(np.int8) #item :level 12\n",
    "].T\n",
    "\n",
    "weight_mat = weight_mat.astype(\"int8\")\n",
    "weight_mat, weight_mat.shape"
   ]
  },
  {
   "cell_type": "code",
   "execution_count": null,
   "metadata": {},
   "outputs": [],
   "source": []
  },
  {
   "cell_type": "code",
   "execution_count": 11,
   "metadata": {},
   "outputs": [
    {
     "data": {
      "text/plain": [
       "0"
      ]
     },
     "execution_count": 11,
     "metadata": {},
     "output_type": "execute_result"
    }
   ],
   "source": [
    "weight_mat_csr = csr_matrix(weight_mat)\n",
    "del weight_mat; gc.collect()"
   ]
  },
  {
   "cell_type": "code",
   "execution_count": 13,
   "metadata": {},
   "outputs": [
    {
     "data": {
      "text/plain": [
       "<1x30490 sparse matrix of type '<class 'numpy.int8'>'\n",
       "\twith 30490 stored elements in Compressed Sparse Row format>"
      ]
     },
     "execution_count": 13,
     "metadata": {},
     "output_type": "execute_result"
    }
   ],
   "source": [
    "weight_mat_csr"
   ]
  },
  {
   "cell_type": "code",
   "execution_count": 14,
   "metadata": {},
   "outputs": [],
   "source": [
    "def cal_weight1(product):\n",
    "    sales_train_val = sales\n",
    "    d_name = ['d_' + str(i+1) for i in range(1913)]\n",
    "\n",
    "    sales_train_val = weight_mat_csr * sales_train_val[d_name].values\n",
    "\n",
    "\n",
    "    df_tmp = ((sales_train_val>0) * np.tile(np.arange(1,1914),(weight_mat_csr.shape[0],1)))\n",
    "\n",
    "    start_no = np.min(np.where(df_tmp==0,9999,df_tmp),axis=1)-1\n",
    "\n",
    "    flag = np.dot(np.diag(1/(start_no+1)) , np.tile(np.arange(1,1914),(weight_mat_csr.shape[0],1)))<1\n",
    "\n",
    "    sales_train_val = np.where(flag, np.nan, sales_train_val)\n",
    "\n",
    "    # denominator of RMSSE / RMSSE\n",
    "    weight1 = np.nansum(np.diff(sales_train_val,axis=1)**2,axis=1)/(1913-start_no)\n",
    "    \n",
    "    return weight1\n",
    "\n",
    "weight1 = cal_weight1(product)"
   ]
  },
  {
   "cell_type": "code",
   "execution_count": 15,
   "metadata": {},
   "outputs": [
    {
     "data": {
      "text/plain": [
       "array([3.50992693e+07, 7.33742761e+06, 3.33780233e+06, ...,\n",
       "       2.29811715e+00, 2.17453799e+00, 6.75734355e+00])"
      ]
     },
     "execution_count": 15,
     "metadata": {},
     "output_type": "execute_result"
    }
   ],
   "source": [
    "weight1"
   ]
  },
  {
   "cell_type": "code",
   "execution_count": 16,
   "metadata": {},
   "outputs": [],
   "source": [
    "# Get the last 28 days for weight2\n",
    "cols = [\"d_{}\".format(i) for i in range(1886, 1886+28)]\n",
    "\n",
    "data = sales[[\"id\", 'store_id', 'item_id'] + cols]\n",
    "\n",
    "data = data.melt(id_vars=[\"id\", 'store_id', 'item_id'], var_name=\"d\", value_name=\"sale\")\n",
    "data = pd.merge(data, calendar, how = 'left', left_on = ['d'], right_on = ['d'])\n",
    "data = data[[\"id\", 'store_id', 'item_id', \"sale\", \"wm_yr_wk\"]]\n",
    "data = data.merge(sell_prices, on = ['store_id', 'item_id', 'wm_yr_wk'], how = 'left')\n"
   ]
  },
  {
   "cell_type": "code",
   "execution_count": 17,
   "metadata": {},
   "outputs": [
    {
     "data": {
      "text/plain": [
       "(42840,)"
      ]
     },
     "execution_count": 17,
     "metadata": {},
     "output_type": "execute_result"
    }
   ],
   "source": [
    "def cal_weight2(data):\n",
    "    # calculate the sales amount for each item/level\n",
    "    df_tmp = data\n",
    "    df_tmp['amount'] = df_tmp['sale'] * df_tmp['sell_price']\n",
    "    df_tmp =df_tmp.groupby(['id'])['amount'].apply(np.sum)\n",
    "    df_tmp = df_tmp.values\n",
    "    \n",
    "    weight2 = weight_mat_csr * df_tmp \n",
    "\n",
    "    weight2 = weight2/np.sum(weight2)\n",
    "    return weight2\n",
    "    \n",
    "weight2 = cal_weight2(data)\n",
    "weight2.shape"
   ]
  },
  {
   "cell_type": "code",
   "execution_count": 18,
   "metadata": {},
   "outputs": [
    {
     "data": {
      "text/plain": [
       "array([8.33333333e-02, 4.00206945e-02, 2.35891821e-02, ...,\n",
       "       1.32093820e-07, 1.32093820e-07, 0.00000000e+00])"
      ]
     },
     "execution_count": 18,
     "metadata": {},
     "output_type": "execute_result"
    }
   ],
   "source": [
    "weight2"
   ]
  },
  {
   "cell_type": "code",
   "execution_count": 19,
   "metadata": {},
   "outputs": [],
   "source": [
    "def wrmsse(preds, y_true):\n",
    "    # number of columns\n",
    "    num_col = DAYS_PRED\n",
    "\n",
    "    reshaped_preds = preds.reshape(num_col, NUM_ITEMS).T\n",
    "    reshaped_true = y_true.reshape(num_col, NUM_ITEMS).T\n",
    "    \n",
    "          \n",
    "    train = weight_mat_csr*np.c_[reshaped_preds, reshaped_true]\n",
    "    \n",
    "    score = np.sum(\n",
    "                np.sqrt(\n",
    "                    np.mean(\n",
    "                        np.square(\n",
    "                            train[:,:num_col] - train[:,num_col:])\n",
    "                        ,axis=1) / weight1) * weight2)\n",
    "    \n",
    "    return score"
   ]
  },
  {
   "cell_type": "code",
   "execution_count": 20,
   "metadata": {},
   "outputs": [
    {
     "data": {
      "text/plain": [
       "7.627486041490601"
      ]
     },
     "execution_count": 20,
     "metadata": {},
     "output_type": "execute_result"
    }
   ],
   "source": [
    "# WRMSSE score\n",
    "DAYS_PRED = 10\n",
    "dft = transform(df)\n",
    "gtt = transform(gt)\n",
    "wrmsse(dft[\"sale\"].to_numpy(), gtt[\"sale\"].to_numpy())"
   ]
  },
  {
   "cell_type": "code",
   "execution_count": null,
   "metadata": {},
   "outputs": [],
   "source": []
  }
 ],
 "metadata": {
  "kernelspec": {
   "display_name": "Python 3",
   "language": "python",
   "name": "python3"
  },
  "language_info": {
   "codemirror_mode": {
    "name": "ipython",
    "version": 3
   },
   "file_extension": ".py",
   "mimetype": "text/x-python",
   "name": "python",
   "nbconvert_exporter": "python",
   "pygments_lexer": "ipython3",
   "version": "3.6.8"
  },
  "toc": {
   "base_numbering": 1,
   "nav_menu": {},
   "number_sections": true,
   "sideBar": true,
   "skip_h1_title": false,
   "title_cell": "Table of Contents",
   "title_sidebar": "Contents",
   "toc_cell": false,
   "toc_position": {},
   "toc_section_display": true,
   "toc_window_display": false
  }
 },
 "nbformat": 4,
 "nbformat_minor": 4
}
