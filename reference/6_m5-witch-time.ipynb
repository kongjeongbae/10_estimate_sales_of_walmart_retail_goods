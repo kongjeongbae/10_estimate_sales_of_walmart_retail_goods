{
 "cells": [
  {
   "cell_type": "code",
   "execution_count": 1,
   "metadata": {
    "_cell_guid": "b1076dfc-b9ad-4769-8c92-a6c4dae69d19",
    "_uuid": "8f2839f25d086af736a60e9eeb907d3b93b6e0e5"
   },
   "outputs": [],
   "source": [
    "# We need pandas\n",
    "# Pandas are cute\n",
    "import pandas as pd"
   ]
  },
  {
   "cell_type": "code",
   "execution_count": 2,
   "metadata": {
    "_cell_guid": "79c7e3d0-c299-4dcb-8224-4455121ee9b0",
    "_uuid": "d629ff2d2480ee46fbb7e2d37f6b5fab8052498a"
   },
   "outputs": [],
   "source": [
    "########################### Read base submission\n",
    "############################################################################\n",
    "submission = pd.read_csv('../input/m5-three-shades-of-dark-darker-magic/submission_v1.csv')"
   ]
  },
  {
   "cell_type": "code",
   "execution_count": 3,
   "metadata": {},
   "outputs": [
    {
     "data": {
      "text/plain": [
       "37665.27453466682"
      ]
     },
     "execution_count": 3,
     "metadata": {},
     "output_type": "execute_result"
    }
   ],
   "source": [
    "########################### Day 1\n",
    "############################################################################\n",
    "\n",
    "# Current number of teams       3,215 (day 2 of May)\n",
    "# Number of teams 2 days before 3,186 \n",
    "teams_now = 3215\n",
    "teams_before = 3186\n",
    "submission['F1'] *= teams_now/teams_before\n",
    "submission['F1'].sum()"
   ]
  },
  {
   "cell_type": "code",
   "execution_count": 4,
   "metadata": {},
   "outputs": [
    {
     "data": {
      "text/plain": [
       "35159.483852591104"
      ]
     },
     "execution_count": 4,
     "metadata": {},
     "output_type": "execute_result"
    }
   ],
   "source": [
    "########################### Day 2\n",
    "############################################################################\n",
    "\n",
    "# In case you'll get a heart attack \n",
    "# because of all the MAGIC in this kernel -\n",
    "# here is South Korean emergency number - 119\n",
    "magic = submission['F2'].sum()\n",
    "korea_emergency = 119\n",
    "submission['F2'] *= magic / (magic + korea_emergency)\n",
    "submission['F2'].sum()"
   ]
  },
  {
   "cell_type": "code",
   "execution_count": 5,
   "metadata": {},
   "outputs": [
    {
     "data": {
      "text/plain": [
       "34553.78948135258"
      ]
     },
     "execution_count": 5,
     "metadata": {},
     "output_type": "execute_result"
    }
   ],
   "source": [
    "########################### Day 3\n",
    "############################################################################\n",
    "\n",
    "# 1913 - The Woman suffrage parade of 1913 takes place in Washington, D.C.\n",
    "# 1923 - Ankara replaces Istanbul (Constantinople), as the capital of Turkey.\n",
    "submission['F3'] *= 1913/1923\n",
    "submission['F3'].sum()"
   ]
  },
  {
   "cell_type": "code",
   "execution_count": 6,
   "metadata": {},
   "outputs": [
    {
     "data": {
      "text/plain": [
       "35049.04484204168"
      ]
     },
     "execution_count": 6,
     "metadata": {},
     "output_type": "execute_result"
    }
   ],
   "source": [
    "########################### Day 4\n",
    "############################################################################\n",
    "\n",
    "# I love statistics.\n",
    "# When you dig in data you can \n",
    "# find VERY interesting \"facts\".\n",
    "# Did you know that the mean \n",
    "# number of sexual partners \n",
    "# per person is 1.0073\n",
    "sex_constant = 1.0073\n",
    "submission['F4'] /= sex_constant\n",
    "submission['F4'].sum()"
   ]
  },
  {
   "cell_type": "code",
   "execution_count": 7,
   "metadata": {},
   "outputs": [
    {
     "data": {
      "text/plain": [
       "41517.87244500632"
      ]
     },
     "execution_count": 7,
     "metadata": {},
     "output_type": "execute_result"
    }
   ],
   "source": [
    "########################### Day 5\n",
    "############################################################################\n",
    "\n",
    "# It's Friday  \n",
    "# Friday night is a mix (colors)\n",
    "# of girls #ffb0e8 and boys #330000\n",
    "# Resulted mix HEX color code is #995874\n",
    "color_of_the_night = 995874\n",
    "\n",
    "# There are millions \"Stories\"\n",
    "# We need to make it Mean, really mean\n",
    "color_of_the_night /= 1000000\n",
    "submission['F5'] *= color_of_the_night\n",
    "submission['F5'].sum()"
   ]
  },
  {
   "cell_type": "code",
   "execution_count": 8,
   "metadata": {},
   "outputs": [
    {
     "data": {
      "text/plain": [
       "50904.96512961997"
      ]
     },
     "execution_count": 8,
     "metadata": {},
     "output_type": "execute_result"
    }
   ],
   "source": [
    "########################### Day 6\n",
    "############################################################################\n",
    "\n",
    "# Fridays not always pass without \"consequences\"\n",
    "# BE CAREFUL - DRINK MODERATELY\n",
    "# https://www.ncbi.nlm.nih.gov/pubmed/25701909\n",
    "# Traumatic brain injury and cognition.\n",
    "# PMID: 25701909 DOI: 10.1016/B978-0-444-63521-1.00037-6\n",
    "\n",
    "# 1.00037-6 - it can't be just a coincidence\n",
    "injury = 1.000376\n",
    "submission['F6'] *= injury\n",
    "submission['F6'].sum()"
   ]
  },
  {
   "cell_type": "code",
   "execution_count": 9,
   "metadata": {},
   "outputs": [
    {
     "data": {
      "text/plain": [
       "53154.440276867594"
      ]
     },
     "execution_count": 9,
     "metadata": {},
     "output_type": "execute_result"
    }
   ],
   "source": [
    "########################### Day 7\n",
    "############################################################################\n",
    "\n",
    "# Let's make it aaaall random\n",
    "# We will need NumPy\n",
    "\n",
    "# We will divide the COMPLETELY random number\n",
    "# from range >1000000 by 1000000\n",
    "# to have some float number from 0 to 1 \n",
    "\n",
    "import numpy as np\n",
    "np.random.seed(198505)\n",
    "correction = np.random.randint(1000000)/1000000\n",
    "submission['F7'] *= correction\n",
    "submission['F7'].sum()"
   ]
  },
  {
   "cell_type": "code",
   "execution_count": 10,
   "metadata": {},
   "outputs": [
    {
     "data": {
      "text/plain": [
       "43958.86467359683"
      ]
     },
     "execution_count": 10,
     "metadata": {},
     "output_type": "execute_result"
    }
   ],
   "source": [
    "########################### Day 8\n",
    "############################################################################\n",
    "submission['F8'] *= (100-1)/100 + (100-12)/10000\n",
    "submission['F8'].sum()"
   ]
  },
  {
   "cell_type": "code",
   "execution_count": 11,
   "metadata": {},
   "outputs": [
    {
     "data": {
      "text/plain": [
       "40793.78637952558"
      ]
     },
     "execution_count": 11,
     "metadata": {},
     "output_type": "execute_result"
    }
   ],
   "source": [
    "########################### Day 11\n",
    "############################################################################\n",
    "\n",
    "# Let's not change anything here\n",
    "# I have a feeling that we should \n",
    "# keep origical prediction\n",
    "submission['F11'] = submission['F11']\n",
    "submission['F11'].sum()"
   ]
  },
  {
   "cell_type": "code",
   "execution_count": 12,
   "metadata": {},
   "outputs": [
    {
     "name": "stdout",
     "output_type": "stream",
     "text": [
      "44775.90619448512\n",
      "39212.32944681616\n",
      "46347.22602492363\n",
      "54338.36899093822\n",
      "46723.68840440284\n",
      "45238.54761808424\n",
      "39770.18542804384\n",
      "40747.90795494926\n",
      "41317.25911690345\n",
      "44324.70185378859\n"
     ]
    }
   ],
   "source": [
    "########################### Days 9-19\n",
    "############################################################################\n",
    "\n",
    "# Just 1% of his fortune is equivalent to the whole health budget for Ethiopia\n",
    "for i in range(9,20):\n",
    "    if i!=11:\n",
    "        submission['F'+str(i)] *= 1.01 \n",
    "        print(submission['F'+str(i)].sum())"
   ]
  },
  {
   "cell_type": "code",
   "execution_count": 13,
   "metadata": {},
   "outputs": [
    {
     "name": "stdout",
     "output_type": "stream",
     "text": [
      "54679.90728118911\n",
      "57042.44612967372\n",
      "42605.013493539904\n",
      "38643.227347482796\n",
      "37810.90482141806\n",
      "37644.59494792491\n",
      "42578.10361990552\n",
      "51652.96362401794\n",
      "52457.975823375265\n"
     ]
    }
   ],
   "source": [
    "########################### Days 20-28\n",
    "############################################################################\n",
    "\n",
    "# Of all the people earning A$100,000 a year under the age of 50, 2% are women. Just 2% are women.\n",
    "for i in range(20,29):\n",
    "    submission['F'+str(i)] *= 1.02\n",
    "    print(submission['F'+str(i)].sum())"
   ]
  },
  {
   "cell_type": "code",
   "execution_count": 14,
   "metadata": {},
   "outputs": [],
   "source": [
    "########################### Export\n",
    "############################################################################\n",
    "submission.to_csv('submission.csv', index=False)"
   ]
  }
 ],
 "metadata": {
  "kernelspec": {
   "display_name": "Python 3",
   "language": "python",
   "name": "python3"
  },
  "language_info": {
   "codemirror_mode": {
    "name": "ipython",
    "version": 3
   },
   "file_extension": ".py",
   "mimetype": "text/x-python",
   "name": "python",
   "nbconvert_exporter": "python",
   "pygments_lexer": "ipython3",
   "version": "3.7.6"
  }
 },
 "nbformat": 4,
 "nbformat_minor": 1
}
