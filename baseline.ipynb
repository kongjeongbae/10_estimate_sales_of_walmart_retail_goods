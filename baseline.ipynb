{
 "cells": [
  {
   "cell_type": "markdown",
   "metadata": {},
   "source": [
    "# 0. 개요"
   ]
  },
  {
   "cell_type": "markdown",
   "metadata": {},
   "source": [
    "- 시계열 데이터"
   ]
  },
  {
   "cell_type": "markdown",
   "metadata": {},
   "source": [
    "# 1. 라이브러리 로드 및 데이터 불러오기"
   ]
  },
  {
   "cell_type": "markdown",
   "metadata": {},
   "source": [
    "## 1.1 라이브러리 로드 및 메모리 감소 함수 정의"
   ]
  },
  {
   "cell_type": "code",
   "execution_count": 2,
   "metadata": {},
   "outputs": [],
   "source": [
    "import pandas as pd\n",
    "import numpy as np \n",
    "from sklearn.ensemble import RandomForestRegressor\n",
    "from lightgbm import LGBMRegressor\n",
    "from sklearn import metrics\n",
    "from sklearn.model_selection import TimeSeriesSplit\n",
    "\n",
    "import matplotlib.pyplot as plt\n",
    "import seaborn as sns\n",
    "\n",
    "import time\n",
    "import datetime\n",
    "import os\n",
    "\n",
    "pd.set_option('display.max_columns', None)\n",
    "# pd.set_option('display.max_rows', None)\n",
    "# pd.set_option('display.max_colwidth', None)\n",
    "\n",
    "def reduce_mem_usage(df, verbose=True):\n",
    "    numerics = ['int16', 'int32', 'int64', 'float16', 'float32', 'float64']\n",
    "    start_mem = df.memory_usage().sum() / 1024**2    \n",
    "    for col in df.columns:\n",
    "        col_type = df[col].dtypes\n",
    "        if col_type in numerics:\n",
    "            c_min = df[col].min()\n",
    "            c_max = df[col].max()\n",
    "            if str(col_type)[:3] == 'int':\n",
    "                if c_min > np.iinfo(np.int8).min and c_max < np.iinfo(np.int8).max:\n",
    "                    df[col] = df[col].astype(np.int8)\n",
    "                elif c_min > np.iinfo(np.int16).min and c_max < np.iinfo(np.int16).max:\n",
    "                    df[col] = df[col].astype(np.int16)\n",
    "                elif c_min > np.iinfo(np.int32).min and c_max < np.iinfo(np.int32).max:\n",
    "                    df[col] = df[col].astype(np.int32)\n",
    "                elif c_min > np.iinfo(np.int64).min and c_max < np.iinfo(np.int64).max:\n",
    "                    df[col] = df[col].astype(np.int64)  \n",
    "            else:\n",
    "                if c_min > np.finfo(np.float16).min and c_max < np.finfo(np.float16).max:\n",
    "                    df[col] = df[col].astype(np.float16)\n",
    "                elif c_min > np.finfo(np.float32).min and c_max < np.finfo(np.float32).max:\n",
    "                    df[col] = df[col].astype(np.float32)\n",
    "                else:\n",
    "                    df[col] = df[col].astype(np.float64)    \n",
    "    end_mem = df.memory_usage().sum() / 1024**2\n",
    "    if verbose: print('Mem. usage decreased to {:5.2f} Mb ({:.1f}% reduction)'.format(end_mem, 100 * (start_mem - end_mem) / start_mem))\n",
    "    return df\n",
    "\n",
    "def write_record(features, params):\n",
    "    record = open(\"record model and features.txt\", 'a')\n",
    "    record.write(\"\\n\")\n",
    "    record.write(str(datetime.datetime.now())+\"\\n\")\n",
    "\n",
    "    check = 0\n",
    "    for _ in features:\n",
    "        check += 1\n",
    "        if check % 5 == 0:\n",
    "            record.write(\"\\n\")\n",
    "        record.write(_+\"  \")\n",
    "    record.write(\"\\n\")\n",
    "    for i  in params.items():\n",
    "        record.write(str(i) + \"\\n\")\n",
    "\n",
    "    record.write('--------------------------------\\n')\n",
    "    record.close()"
   ]
  },
  {
   "cell_type": "code",
   "execution_count": null,
   "metadata": {},
   "outputs": [],
   "source": []
  },
  {
   "cell_type": "markdown",
   "metadata": {},
   "source": [
    "## 1.2 데이터 불러오기 및 pd.melt를 활용해 데이터 정렬"
   ]
  },
  {
   "cell_type": "markdown",
   "metadata": {},
   "source": [
    "prepare training and test data.\n",
    "- 2011-01-29 ~ 2016-04-24 : d_1    ~ d_1913\n",
    "- 2016-04-25 ~ 2016-05-22 : d_1914 ~ d_1941 (public)\n",
    "- 2016-05-23 ~ 2016-06-19 : d_1942 ~ d_1969 (private)"
   ]
  },
  {
   "cell_type": "code",
   "execution_count": 3,
   "metadata": {},
   "outputs": [],
   "source": [
    "train = pd.read_csv('inputs/sales_train_validation.csv')\n",
    "train = pd.melt(train, id_vars=['id','item_id','dept_id','cat_id','store_id','state_id'], var_name='d', value_name='target')\n",
    "\n",
    "test = pd.read_csv('inputs/sample_submission.csv')\n",
    "test2 = test[30490:]\n",
    "\n",
    "test = test[:30490]\n",
    "test = pd.melt(test, id_vars=['id'], var_name='d', value_name='target')\n",
    "for i in range(1, 29):\n",
    "    test = test.replace({f'F{i}': f'd_{1913+i}'})\n",
    "\n",
    "test[['cat_id', 'dept_id', 'item_id', 'state_id', 'store_id', 'tmp']] = pd.DataFrame(test['id'].str.split('_').tolist())\n",
    "del test['tmp']\n",
    "test['store_id'] = test['state_id'] + '_' + test['store_id']\n",
    "test['dept_id'] = test['cat_id'] + '_' + test['dept_id']\n",
    "test['item_id'] = test['dept_id'] + '_' + test['item_id']\n",
    "\n",
    "test = test[train.columns]\n",
    "\n",
    "calendar = pd.read_csv('inputs/calendar.csv')\n",
    "\n",
    "sell_prices = pd.read_csv('inputs/sell_prices.csv')"
   ]
  },
  {
   "cell_type": "code",
   "execution_count": null,
   "metadata": {},
   "outputs": [],
   "source": []
  },
  {
   "cell_type": "code",
   "execution_count": null,
   "metadata": {},
   "outputs": [],
   "source": []
  },
  {
   "cell_type": "code",
   "execution_count": null,
   "metadata": {},
   "outputs": [],
   "source": [
    "test.tail()"
   ]
  },
  {
   "cell_type": "markdown",
   "metadata": {},
   "source": [
    "# 2. 데이터 탐색"
   ]
  },
  {
   "cell_type": "markdown",
   "metadata": {},
   "source": [
    "## 2.1 train"
   ]
  },
  {
   "cell_type": "code",
   "execution_count": null,
   "metadata": {},
   "outputs": [],
   "source": [
    "train.head(2)"
   ]
  },
  {
   "cell_type": "code",
   "execution_count": null,
   "metadata": {},
   "outputs": [],
   "source": [
    "# 아웃라이어를 제거해서 boxplot 더 잘보이게끔\n",
    "train200 = train[train['target'] < 10]"
   ]
  },
  {
   "cell_type": "markdown",
   "metadata": {},
   "source": [
    "### 2.1.1 target"
   ]
  },
  {
   "cell_type": "code",
   "execution_count": null,
   "metadata": {},
   "outputs": [],
   "source": [
    "pd.set_option('display.max_rows', 419)\n",
    "pd.DataFrame(train['target'].value_counts())"
   ]
  },
  {
   "cell_type": "code",
   "execution_count": null,
   "metadata": {},
   "outputs": [],
   "source": [
    "plt.figure(figsize=(10,7))\n",
    "display(\n",
    "    train[train['target'] == 763],\n",
    "    train[train['id'] == 'FOODS_3_090_CA_3_validation'],\n",
    "    sns.distplot(train[train['id'] == 'FOODS_3_090_CA_3_validation']['target'])    \n",
    ")"
   ]
  },
  {
   "cell_type": "code",
   "execution_count": null,
   "metadata": {},
   "outputs": [],
   "source": [
    "plt.figure(figsize=(10,7))\n",
    "display(\n",
    "    train[train['target'] == 370],\n",
    "    train[train['id'] == 'FOODS_3_318_CA_3_validation'],\n",
    "    sns.distplot(train[train['id'] == 'FOODS_3_318_CA_3_validation']['target'])    \n",
    ")"
   ]
  },
  {
   "cell_type": "code",
   "execution_count": null,
   "metadata": {
    "scrolled": false
   },
   "outputs": [],
   "source": [
    "train[train['target'] == 763]"
   ]
  },
  {
   "cell_type": "code",
   "execution_count": null,
   "metadata": {},
   "outputs": [],
   "source": []
  },
  {
   "cell_type": "code",
   "execution_count": null,
   "metadata": {
    "scrolled": true
   },
   "outputs": [],
   "source": [
    "# 시간 오래걸림\n",
    "\n",
    "plt.figure(figsize=(10,7))\n",
    "# sns.distplot(train['target'])"
   ]
  },
  {
   "cell_type": "markdown",
   "metadata": {},
   "source": [
    "### 2.1.2 id"
   ]
  },
  {
   "cell_type": "code",
   "execution_count": null,
   "metadata": {
    "scrolled": true
   },
   "outputs": [],
   "source": [
    "train.groupby('id')['target'].mean()"
   ]
  },
  {
   "cell_type": "code",
   "execution_count": null,
   "metadata": {},
   "outputs": [],
   "source": []
  },
  {
   "cell_type": "markdown",
   "metadata": {},
   "source": [
    "### 2.1.3 item_id"
   ]
  },
  {
   "cell_type": "code",
   "execution_count": null,
   "metadata": {},
   "outputs": [],
   "source": [
    "train.groupby('item_id')['target'].mean()"
   ]
  },
  {
   "cell_type": "code",
   "execution_count": null,
   "metadata": {},
   "outputs": [],
   "source": [
    "train['item_id'].value_counts()"
   ]
  },
  {
   "cell_type": "markdown",
   "metadata": {},
   "source": [
    "### 2.1.4 dept_id"
   ]
  },
  {
   "cell_type": "code",
   "execution_count": null,
   "metadata": {
    "scrolled": false
   },
   "outputs": [],
   "source": [
    "train.groupby('dept_id')['target'].mean()"
   ]
  },
  {
   "cell_type": "code",
   "execution_count": null,
   "metadata": {},
   "outputs": [],
   "source": [
    "train['dept_id'].value_counts()"
   ]
  },
  {
   "cell_type": "code",
   "execution_count": null,
   "metadata": {
    "scrolled": true
   },
   "outputs": [],
   "source": [
    "plt.figure(figsize=(10,7))\n",
    "sns.boxplot(train['dept_id'], train200['target'])"
   ]
  },
  {
   "cell_type": "markdown",
   "metadata": {},
   "source": [
    "### 2.1.5 cat_id"
   ]
  },
  {
   "cell_type": "code",
   "execution_count": null,
   "metadata": {},
   "outputs": [],
   "source": [
    "train.groupby('cat_id')['target'].mean()"
   ]
  },
  {
   "cell_type": "code",
   "execution_count": null,
   "metadata": {},
   "outputs": [],
   "source": [
    "train['cat_id'].value_counts()"
   ]
  },
  {
   "cell_type": "markdown",
   "metadata": {},
   "source": [
    "### 2.1.6 store_id"
   ]
  },
  {
   "cell_type": "code",
   "execution_count": null,
   "metadata": {
    "scrolled": true
   },
   "outputs": [],
   "source": [
    "train.groupby('store_id')['target'].mean()"
   ]
  },
  {
   "cell_type": "code",
   "execution_count": null,
   "metadata": {
    "scrolled": true
   },
   "outputs": [],
   "source": [
    "train['store_id'].value_counts()"
   ]
  },
  {
   "cell_type": "markdown",
   "metadata": {},
   "source": [
    "store_id 를 기준으로 10가지 모델을 만들어봐도 좋을 듯 싶다.  \n",
    "우선 검증을 해야함. 각각이 많이 다른지부터"
   ]
  },
  {
   "cell_type": "markdown",
   "metadata": {},
   "source": [
    "### 2.1.7 state_id"
   ]
  },
  {
   "cell_type": "code",
   "execution_count": null,
   "metadata": {},
   "outputs": [],
   "source": [
    "train.groupby('state_id')['target'].mean()"
   ]
  },
  {
   "cell_type": "code",
   "execution_count": null,
   "metadata": {},
   "outputs": [],
   "source": [
    "train['state_id'].value_counts()"
   ]
  },
  {
   "cell_type": "markdown",
   "metadata": {},
   "source": [
    "### 2.1.8 d"
   ]
  },
  {
   "cell_type": "code",
   "execution_count": null,
   "metadata": {},
   "outputs": [],
   "source": [
    "train.groupby('d')['target'].mean()"
   ]
  },
  {
   "cell_type": "markdown",
   "metadata": {},
   "source": [
    "## 2.2 test"
   ]
  },
  {
   "cell_type": "code",
   "execution_count": null,
   "metadata": {
    "scrolled": true
   },
   "outputs": [],
   "source": [
    "test.head(2)"
   ]
  },
  {
   "cell_type": "code",
   "execution_count": null,
   "metadata": {},
   "outputs": [],
   "source": []
  },
  {
   "cell_type": "markdown",
   "metadata": {},
   "source": [
    "## 2.3 calendar"
   ]
  },
  {
   "cell_type": "markdown",
   "metadata": {},
   "source": [
    "- 대부분 date 데이터고, event 및 snap(정부보조금 적용되는 날)에 집중해보자.\n",
    "- event_name_2가 너무 적다. 우선을 빼고 모델 만들어 볼 것임.\n",
    "- 이벤트 유무(is_event) 컬럼 만들 예정"
   ]
  },
  {
   "cell_type": "code",
   "execution_count": 4,
   "metadata": {
    "scrolled": true
   },
   "outputs": [
    {
     "data": {
      "text/html": [
       "<div>\n",
       "<style scoped>\n",
       "    .dataframe tbody tr th:only-of-type {\n",
       "        vertical-align: middle;\n",
       "    }\n",
       "\n",
       "    .dataframe tbody tr th {\n",
       "        vertical-align: top;\n",
       "    }\n",
       "\n",
       "    .dataframe thead th {\n",
       "        text-align: right;\n",
       "    }\n",
       "</style>\n",
       "<table border=\"1\" class=\"dataframe\">\n",
       "  <thead>\n",
       "    <tr style=\"text-align: right;\">\n",
       "      <th></th>\n",
       "      <th>date</th>\n",
       "      <th>wm_yr_wk</th>\n",
       "      <th>weekday</th>\n",
       "      <th>wday</th>\n",
       "      <th>month</th>\n",
       "      <th>year</th>\n",
       "      <th>d</th>\n",
       "      <th>event_name_1</th>\n",
       "      <th>event_type_1</th>\n",
       "      <th>event_name_2</th>\n",
       "      <th>event_type_2</th>\n",
       "      <th>snap_CA</th>\n",
       "      <th>snap_TX</th>\n",
       "      <th>snap_WI</th>\n",
       "    </tr>\n",
       "  </thead>\n",
       "  <tbody>\n",
       "    <tr>\n",
       "      <th>0</th>\n",
       "      <td>2011-01-29</td>\n",
       "      <td>11101</td>\n",
       "      <td>Saturday</td>\n",
       "      <td>1</td>\n",
       "      <td>1</td>\n",
       "      <td>2011</td>\n",
       "      <td>d_1</td>\n",
       "      <td>NaN</td>\n",
       "      <td>NaN</td>\n",
       "      <td>NaN</td>\n",
       "      <td>NaN</td>\n",
       "      <td>0</td>\n",
       "      <td>0</td>\n",
       "      <td>0</td>\n",
       "    </tr>\n",
       "    <tr>\n",
       "      <th>1</th>\n",
       "      <td>2011-01-30</td>\n",
       "      <td>11101</td>\n",
       "      <td>Sunday</td>\n",
       "      <td>2</td>\n",
       "      <td>1</td>\n",
       "      <td>2011</td>\n",
       "      <td>d_2</td>\n",
       "      <td>NaN</td>\n",
       "      <td>NaN</td>\n",
       "      <td>NaN</td>\n",
       "      <td>NaN</td>\n",
       "      <td>0</td>\n",
       "      <td>0</td>\n",
       "      <td>0</td>\n",
       "    </tr>\n",
       "    <tr>\n",
       "      <th>2</th>\n",
       "      <td>2011-01-31</td>\n",
       "      <td>11101</td>\n",
       "      <td>Monday</td>\n",
       "      <td>3</td>\n",
       "      <td>1</td>\n",
       "      <td>2011</td>\n",
       "      <td>d_3</td>\n",
       "      <td>NaN</td>\n",
       "      <td>NaN</td>\n",
       "      <td>NaN</td>\n",
       "      <td>NaN</td>\n",
       "      <td>0</td>\n",
       "      <td>0</td>\n",
       "      <td>0</td>\n",
       "    </tr>\n",
       "    <tr>\n",
       "      <th>3</th>\n",
       "      <td>2011-02-01</td>\n",
       "      <td>11101</td>\n",
       "      <td>Tuesday</td>\n",
       "      <td>4</td>\n",
       "      <td>2</td>\n",
       "      <td>2011</td>\n",
       "      <td>d_4</td>\n",
       "      <td>NaN</td>\n",
       "      <td>NaN</td>\n",
       "      <td>NaN</td>\n",
       "      <td>NaN</td>\n",
       "      <td>1</td>\n",
       "      <td>1</td>\n",
       "      <td>0</td>\n",
       "    </tr>\n",
       "    <tr>\n",
       "      <th>4</th>\n",
       "      <td>2011-02-02</td>\n",
       "      <td>11101</td>\n",
       "      <td>Wednesday</td>\n",
       "      <td>5</td>\n",
       "      <td>2</td>\n",
       "      <td>2011</td>\n",
       "      <td>d_5</td>\n",
       "      <td>NaN</td>\n",
       "      <td>NaN</td>\n",
       "      <td>NaN</td>\n",
       "      <td>NaN</td>\n",
       "      <td>1</td>\n",
       "      <td>0</td>\n",
       "      <td>1</td>\n",
       "    </tr>\n",
       "  </tbody>\n",
       "</table>\n",
       "</div>"
      ],
      "text/plain": [
       "         date  wm_yr_wk    weekday  wday  month  year    d event_name_1  \\\n",
       "0  2011-01-29     11101   Saturday     1      1  2011  d_1          NaN   \n",
       "1  2011-01-30     11101     Sunday     2      1  2011  d_2          NaN   \n",
       "2  2011-01-31     11101     Monday     3      1  2011  d_3          NaN   \n",
       "3  2011-02-01     11101    Tuesday     4      2  2011  d_4          NaN   \n",
       "4  2011-02-02     11101  Wednesday     5      2  2011  d_5          NaN   \n",
       "\n",
       "  event_type_1 event_name_2 event_type_2  snap_CA  snap_TX  snap_WI  \n",
       "0          NaN          NaN          NaN        0        0        0  \n",
       "1          NaN          NaN          NaN        0        0        0  \n",
       "2          NaN          NaN          NaN        0        0        0  \n",
       "3          NaN          NaN          NaN        1        1        0  \n",
       "4          NaN          NaN          NaN        1        0        1  "
      ]
     },
     "execution_count": 4,
     "metadata": {},
     "output_type": "execute_result"
    }
   ],
   "source": [
    "calendar.head()"
   ]
  },
  {
   "cell_type": "code",
   "execution_count": null,
   "metadata": {},
   "outputs": [],
   "source": [
    "calendar = calendar.drop(['event_name_2', 'event_type_2'], axis=1)\n",
    "calendar['is_event'] = calendar['event_name_1'].notna().astype('int8')\n",
    "del calendar['wday']\n",
    "del calendar['wm_yr_wk'] # 모든 주차에 인덱스 붙여놓음. 282개"
   ]
  },
  {
   "cell_type": "code",
   "execution_count": null,
   "metadata": {},
   "outputs": [],
   "source": [
    "calendar['day'] = calendar['date'].astype('datetime64').dt.day\n",
    "calendar['week'] = calendar['date'].astype('datetime64').dt.week\n"
   ]
  },
  {
   "cell_type": "code",
   "execution_count": null,
   "metadata": {
    "scrolled": true
   },
   "outputs": [],
   "source": [
    "calendar.head()"
   ]
  },
  {
   "cell_type": "code",
   "execution_count": null,
   "metadata": {},
   "outputs": [],
   "source": [
    "train = train.merge(calendar, how='left')\n",
    "test = test.merge(calendar, how='left')"
   ]
  },
  {
   "cell_type": "code",
   "execution_count": null,
   "metadata": {},
   "outputs": [],
   "source": [
    "train.head()"
   ]
  },
  {
   "cell_type": "code",
   "execution_count": null,
   "metadata": {},
   "outputs": [],
   "source": [
    "train['day'] = train['date'].astype('datetime64').dt.day\n",
    "test['day'] = test['date'].astype('datetime64').dt.day\n",
    "\n",
    "train['week'] = train['date'].astype('datetime64').dt.week\n",
    "test['week'] = test['date'].astype('datetime64').dt.week"
   ]
  },
  {
   "cell_type": "markdown",
   "metadata": {},
   "source": [
    "## 2.4 sell_prices"
   ]
  },
  {
   "cell_type": "code",
   "execution_count": null,
   "metadata": {},
   "outputs": [],
   "source": [
    "sell_prices.info()"
   ]
  },
  {
   "cell_type": "code",
   "execution_count": null,
   "metadata": {},
   "outputs": [],
   "source": [
    "sell_prices.nunique()"
   ]
  },
  {
   "cell_type": "code",
   "execution_count": null,
   "metadata": {},
   "outputs": [],
   "source": [
    "for i in sell_prices['wm_yr_wk'].unique():\n",
    "    print(i)"
   ]
  },
  {
   "cell_type": "code",
   "execution_count": null,
   "metadata": {},
   "outputs": [],
   "source": [
    "sell_prices.groupby('wm_yr_wk')['sell_price'].mean().index"
   ]
  },
  {
   "cell_type": "code",
   "execution_count": null,
   "metadata": {},
   "outputs": [],
   "source": [
    "import matplotlib.pyplot as plt\n",
    "import seaborn as sns\n",
    "\n",
    "plt.figure(figsize=(10,7))\n",
    "sns.lineplot(range(len(sell_prices.groupby('wm_yr_wk')['sell_price'].mean())), list(sell_prices.groupby('wm_yr_wk')['sell_price'].mean()))"
   ]
  },
  {
   "cell_type": "markdown",
   "metadata": {},
   "source": [
    "# 3. 피쳐 엔지니어링"
   ]
  },
  {
   "cell_type": "markdown",
   "metadata": {},
   "source": [
    "## 3.1 train, test"
   ]
  },
  {
   "cell_type": "markdown",
   "metadata": {},
   "source": [
    "prepare training and test data.\n",
    "- 2011-01-29 ~ 2016-04-24 : d_1    ~ d_1913\n",
    "- 2016-04-25 ~ 2016-05-22 : d_1914 ~ d_1941 (public)\n",
    "- 2016-05-23 ~ 2016-06-19 : d_1942 ~ d_1969 (private)"
   ]
  },
  {
   "cell_type": "code",
   "execution_count": null,
   "metadata": {},
   "outputs": [],
   "source": []
  },
  {
   "cell_type": "code",
   "execution_count": 1,
   "metadata": {
    "code_folding": [
     18,
     46
    ]
   },
   "outputs": [],
   "source": [
    "import pandas as pd\n",
    "import numpy as np \n",
    "from sklearn.ensemble import RandomForestRegressor\n",
    "from lightgbm import LGBMRegressor\n",
    "from sklearn import metrics\n",
    "from sklearn.model_selection import TimeSeriesSplit, KFold\n",
    "\n",
    "import matplotlib.pyplot as plt\n",
    "import seaborn as sns\n",
    "\n",
    "import time\n",
    "import datetime\n",
    "import os\n",
    "\n",
    "pd.set_option('display.max_columns', None)\n",
    "# pd.set_option('display.max_rows', None)\n",
    "# pd.set_option('display.max_colwidth', None)\n",
    "\n",
    "def reduce_mem_usage(df, verbose=True):\n",
    "    numerics = ['int16', 'int32', 'int64', 'float16', 'float32', 'float64']\n",
    "    start_mem = df.memory_usage().sum() / 1024**2    \n",
    "    for col in df.columns:\n",
    "        col_type = df[col].dtypes\n",
    "        if col_type in numerics:\n",
    "            c_min = df[col].min()\n",
    "            c_max = df[col].max()\n",
    "            if str(col_type)[:3] == 'int':\n",
    "                if c_min > np.iinfo(np.int8).min and c_max < np.iinfo(np.int8).max:\n",
    "                    df[col] = df[col].astype(np.int8)\n",
    "                elif c_min > np.iinfo(np.int16).min and c_max < np.iinfo(np.int16).max:\n",
    "                    df[col] = df[col].astype(np.int16)\n",
    "                elif c_min > np.iinfo(np.int32).min and c_max < np.iinfo(np.int32).max:\n",
    "                    df[col] = df[col].astype(np.int32)\n",
    "                elif c_min > np.iinfo(np.int64).min and c_max < np.iinfo(np.int64).max:\n",
    "                    df[col] = df[col].astype(np.int64)  \n",
    "            else:\n",
    "                if c_min > np.finfo(np.float16).min and c_max < np.finfo(np.float16).max:\n",
    "                    df[col] = df[col].astype(np.float16)\n",
    "                elif c_min > np.finfo(np.float32).min and c_max < np.finfo(np.float32).max:\n",
    "                    df[col] = df[col].astype(np.float32)\n",
    "                else:\n",
    "                    df[col] = df[col].astype(np.float64)    \n",
    "    end_mem = df.memory_usage().sum() / 1024**2\n",
    "    if verbose: print('Mem. usage decreased to {:5.2f} Mb ({:.1f}% reduction)'.format(end_mem, 100 * (start_mem - end_mem) / start_mem))\n",
    "    return df\n",
    "\n",
    "def write_record(features, params):\n",
    "    record = open(\"record model and features.txt\", 'a')\n",
    "    record.write(\"\\n\")\n",
    "    record.write(str(datetime.datetime.now())+\"\\n\")\n",
    "\n",
    "    check = 0\n",
    "    for _ in features:\n",
    "        check += 1\n",
    "        if check % 5 == 0:\n",
    "            record.write(\"\\n\")\n",
    "        record.write(_+\"  \")\n",
    "    record.write(\"\\n\")\n",
    "    for i  in params.items():\n",
    "        record.write(str(i) + \"\\n\")\n",
    "\n",
    "    record.write('--------------------------------\\n')\n",
    "    record.close()"
   ]
  },
  {
   "cell_type": "code",
   "execution_count": 2,
   "metadata": {},
   "outputs": [
    {
     "name": "stdout",
     "output_type": "stream",
     "text": [
      "Mem. usage decreased to 3226.27 Mb (9.4% reduction)\n"
     ]
    }
   ],
   "source": [
    "train = pd.read_csv('inputs/sales_train_validation.csv')\n",
    "train = pd.melt(train, id_vars=['id','item_id','dept_id','cat_id','store_id','state_id'], var_name='d', value_name='sales')\n",
    "train = reduce_mem_usage(train)"
   ]
  },
  {
   "cell_type": "code",
   "execution_count": 3,
   "metadata": {},
   "outputs": [
    {
     "name": "stdout",
     "output_type": "stream",
     "text": [
      "Mem. usage decreased to 46.41 Mb (10.9% reduction)\n"
     ]
    }
   ],
   "source": [
    "test = pd.read_csv('inputs/sample_submission.csv')\n",
    "test = test[:30490]\n",
    "test = pd.melt(test, id_vars=['id'], var_name='d', value_name='sales')\n",
    "for i in range(1, 29):\n",
    "    test = test.replace({f'F{i}': f'd_{1913+i}'})\n",
    "\n",
    "test[['cat_id', 'dept_id', 'item_id', 'state_id', 'store_id', 'tmp']] = pd.DataFrame(test['id'].str.split('_').tolist())\n",
    "del test['tmp']\n",
    "test['store_id'] = test['state_id'] + '_' + test['store_id']\n",
    "test['dept_id'] = test['cat_id'] + '_' + test['dept_id']\n",
    "test['item_id'] = test['dept_id'] + '_' + test['item_id']\n",
    "\n",
    "test = test[train.columns]\n",
    "test = reduce_mem_usage(test)"
   ]
  },
  {
   "cell_type": "markdown",
   "metadata": {},
   "source": [
    "## 3.2 calendar (date 데이터)"
   ]
  },
  {
   "cell_type": "code",
   "execution_count": 4,
   "metadata": {},
   "outputs": [],
   "source": [
    "calendar = pd.read_csv('inputs/calendar.csv')\n",
    "\n",
    "calendar = calendar.drop(['event_name_2', 'event_type_2'], axis=1)\n",
    "calendar['is_event'] = calendar['event_name_1'].notna().astype('int8')\n",
    "del calendar['wday']  # weekday랑 똑같은 컬럼.\n",
    "calendar['day'] = calendar['date'].astype('datetime64').dt.day\n",
    "calendar['week'] = calendar['date'].astype('datetime64').dt.week"
   ]
  },
  {
   "cell_type": "code",
   "execution_count": 5,
   "metadata": {},
   "outputs": [],
   "source": [
    "train = train.merge(calendar, how='left')\n",
    "test = test.merge(calendar, how='left')"
   ]
  },
  {
   "cell_type": "markdown",
   "metadata": {},
   "source": [
    "## 3.3 sell_prices"
   ]
  },
  {
   "cell_type": "code",
   "execution_count": 6,
   "metadata": {},
   "outputs": [],
   "source": [
    "sell_prices = pd.read_csv('inputs/sell_prices.csv')"
   ]
  },
  {
   "cell_type": "code",
   "execution_count": 7,
   "metadata": {},
   "outputs": [],
   "source": [
    "train = train.merge(sell_prices, on = ['store_id', 'item_id', 'wm_yr_wk'], how = 'left')\n",
    "test = test.merge(sell_prices, on = ['store_id', 'item_id', 'wm_yr_wk'], how = 'left')"
   ]
  },
  {
   "cell_type": "code",
   "execution_count": 8,
   "metadata": {},
   "outputs": [
    {
     "data": {
      "text/html": [
       "<div>\n",
       "<style scoped>\n",
       "    .dataframe tbody tr th:only-of-type {\n",
       "        vertical-align: middle;\n",
       "    }\n",
       "\n",
       "    .dataframe tbody tr th {\n",
       "        vertical-align: top;\n",
       "    }\n",
       "\n",
       "    .dataframe thead th {\n",
       "        text-align: right;\n",
       "    }\n",
       "</style>\n",
       "<table border=\"1\" class=\"dataframe\">\n",
       "  <thead>\n",
       "    <tr style=\"text-align: right;\">\n",
       "      <th></th>\n",
       "      <th>id</th>\n",
       "      <th>item_id</th>\n",
       "      <th>dept_id</th>\n",
       "      <th>cat_id</th>\n",
       "      <th>store_id</th>\n",
       "      <th>state_id</th>\n",
       "      <th>d</th>\n",
       "      <th>sales</th>\n",
       "      <th>date</th>\n",
       "      <th>wm_yr_wk</th>\n",
       "      <th>weekday</th>\n",
       "      <th>month</th>\n",
       "      <th>year</th>\n",
       "      <th>event_name_1</th>\n",
       "      <th>event_type_1</th>\n",
       "      <th>snap_CA</th>\n",
       "      <th>snap_TX</th>\n",
       "      <th>snap_WI</th>\n",
       "      <th>is_event</th>\n",
       "      <th>day</th>\n",
       "      <th>week</th>\n",
       "      <th>sell_price</th>\n",
       "    </tr>\n",
       "  </thead>\n",
       "  <tbody>\n",
       "    <tr>\n",
       "      <th>0</th>\n",
       "      <td>HOBBIES_1_001_CA_1_validation</td>\n",
       "      <td>HOBBIES_1_001</td>\n",
       "      <td>HOBBIES_1</td>\n",
       "      <td>HOBBIES</td>\n",
       "      <td>CA_1</td>\n",
       "      <td>CA</td>\n",
       "      <td>d_1</td>\n",
       "      <td>0</td>\n",
       "      <td>2011-01-29</td>\n",
       "      <td>11101</td>\n",
       "      <td>Saturday</td>\n",
       "      <td>1</td>\n",
       "      <td>2011</td>\n",
       "      <td>NaN</td>\n",
       "      <td>NaN</td>\n",
       "      <td>0</td>\n",
       "      <td>0</td>\n",
       "      <td>0</td>\n",
       "      <td>0</td>\n",
       "      <td>29</td>\n",
       "      <td>4</td>\n",
       "      <td>NaN</td>\n",
       "    </tr>\n",
       "    <tr>\n",
       "      <th>1</th>\n",
       "      <td>HOBBIES_1_002_CA_1_validation</td>\n",
       "      <td>HOBBIES_1_002</td>\n",
       "      <td>HOBBIES_1</td>\n",
       "      <td>HOBBIES</td>\n",
       "      <td>CA_1</td>\n",
       "      <td>CA</td>\n",
       "      <td>d_1</td>\n",
       "      <td>0</td>\n",
       "      <td>2011-01-29</td>\n",
       "      <td>11101</td>\n",
       "      <td>Saturday</td>\n",
       "      <td>1</td>\n",
       "      <td>2011</td>\n",
       "      <td>NaN</td>\n",
       "      <td>NaN</td>\n",
       "      <td>0</td>\n",
       "      <td>0</td>\n",
       "      <td>0</td>\n",
       "      <td>0</td>\n",
       "      <td>29</td>\n",
       "      <td>4</td>\n",
       "      <td>NaN</td>\n",
       "    </tr>\n",
       "    <tr>\n",
       "      <th>2</th>\n",
       "      <td>HOBBIES_1_003_CA_1_validation</td>\n",
       "      <td>HOBBIES_1_003</td>\n",
       "      <td>HOBBIES_1</td>\n",
       "      <td>HOBBIES</td>\n",
       "      <td>CA_1</td>\n",
       "      <td>CA</td>\n",
       "      <td>d_1</td>\n",
       "      <td>0</td>\n",
       "      <td>2011-01-29</td>\n",
       "      <td>11101</td>\n",
       "      <td>Saturday</td>\n",
       "      <td>1</td>\n",
       "      <td>2011</td>\n",
       "      <td>NaN</td>\n",
       "      <td>NaN</td>\n",
       "      <td>0</td>\n",
       "      <td>0</td>\n",
       "      <td>0</td>\n",
       "      <td>0</td>\n",
       "      <td>29</td>\n",
       "      <td>4</td>\n",
       "      <td>NaN</td>\n",
       "    </tr>\n",
       "    <tr>\n",
       "      <th>3</th>\n",
       "      <td>HOBBIES_1_004_CA_1_validation</td>\n",
       "      <td>HOBBIES_1_004</td>\n",
       "      <td>HOBBIES_1</td>\n",
       "      <td>HOBBIES</td>\n",
       "      <td>CA_1</td>\n",
       "      <td>CA</td>\n",
       "      <td>d_1</td>\n",
       "      <td>0</td>\n",
       "      <td>2011-01-29</td>\n",
       "      <td>11101</td>\n",
       "      <td>Saturday</td>\n",
       "      <td>1</td>\n",
       "      <td>2011</td>\n",
       "      <td>NaN</td>\n",
       "      <td>NaN</td>\n",
       "      <td>0</td>\n",
       "      <td>0</td>\n",
       "      <td>0</td>\n",
       "      <td>0</td>\n",
       "      <td>29</td>\n",
       "      <td>4</td>\n",
       "      <td>NaN</td>\n",
       "    </tr>\n",
       "    <tr>\n",
       "      <th>4</th>\n",
       "      <td>HOBBIES_1_005_CA_1_validation</td>\n",
       "      <td>HOBBIES_1_005</td>\n",
       "      <td>HOBBIES_1</td>\n",
       "      <td>HOBBIES</td>\n",
       "      <td>CA_1</td>\n",
       "      <td>CA</td>\n",
       "      <td>d_1</td>\n",
       "      <td>0</td>\n",
       "      <td>2011-01-29</td>\n",
       "      <td>11101</td>\n",
       "      <td>Saturday</td>\n",
       "      <td>1</td>\n",
       "      <td>2011</td>\n",
       "      <td>NaN</td>\n",
       "      <td>NaN</td>\n",
       "      <td>0</td>\n",
       "      <td>0</td>\n",
       "      <td>0</td>\n",
       "      <td>0</td>\n",
       "      <td>29</td>\n",
       "      <td>4</td>\n",
       "      <td>NaN</td>\n",
       "    </tr>\n",
       "  </tbody>\n",
       "</table>\n",
       "</div>"
      ],
      "text/plain": [
       "                              id        item_id    dept_id   cat_id store_id  \\\n",
       "0  HOBBIES_1_001_CA_1_validation  HOBBIES_1_001  HOBBIES_1  HOBBIES     CA_1   \n",
       "1  HOBBIES_1_002_CA_1_validation  HOBBIES_1_002  HOBBIES_1  HOBBIES     CA_1   \n",
       "2  HOBBIES_1_003_CA_1_validation  HOBBIES_1_003  HOBBIES_1  HOBBIES     CA_1   \n",
       "3  HOBBIES_1_004_CA_1_validation  HOBBIES_1_004  HOBBIES_1  HOBBIES     CA_1   \n",
       "4  HOBBIES_1_005_CA_1_validation  HOBBIES_1_005  HOBBIES_1  HOBBIES     CA_1   \n",
       "\n",
       "  state_id    d  sales        date  wm_yr_wk   weekday  month  year  \\\n",
       "0       CA  d_1      0  2011-01-29     11101  Saturday      1  2011   \n",
       "1       CA  d_1      0  2011-01-29     11101  Saturday      1  2011   \n",
       "2       CA  d_1      0  2011-01-29     11101  Saturday      1  2011   \n",
       "3       CA  d_1      0  2011-01-29     11101  Saturday      1  2011   \n",
       "4       CA  d_1      0  2011-01-29     11101  Saturday      1  2011   \n",
       "\n",
       "  event_name_1 event_type_1  snap_CA  snap_TX  snap_WI  is_event  day  week  \\\n",
       "0          NaN          NaN        0        0        0         0   29     4   \n",
       "1          NaN          NaN        0        0        0         0   29     4   \n",
       "2          NaN          NaN        0        0        0         0   29     4   \n",
       "3          NaN          NaN        0        0        0         0   29     4   \n",
       "4          NaN          NaN        0        0        0         0   29     4   \n",
       "\n",
       "   sell_price  \n",
       "0         NaN  \n",
       "1         NaN  \n",
       "2         NaN  \n",
       "3         NaN  \n",
       "4         NaN  "
      ]
     },
     "execution_count": 8,
     "metadata": {},
     "output_type": "execute_result"
    }
   ],
   "source": [
    "train.head()"
   ]
  },
  {
   "cell_type": "markdown",
   "metadata": {},
   "source": [
    "## 3.4 라벨인코딩"
   ]
  },
  {
   "cell_type": "code",
   "execution_count": null,
   "metadata": {
    "scrolled": false
   },
   "outputs": [],
   "source": [
    "all_df = pd.concat([train, test])\n",
    "all_df['revenue'] = all_df['sales'] * all_df['sell_price']\n",
    "\n",
    "from sklearn.preprocessing import LabelEncoder\n",
    "le = LabelEncoder()\n",
    "\n",
    "for i in all_df.columns[all_df.dtypes == 'object']:\n",
    "    if i == 'id' or i == 'date':\n",
    "        continue\n",
    "    all_df[i] = le.fit_transform(list(all_df[i]))\n",
    "\n"
   ]
  },
  {
   "cell_type": "code",
   "execution_count": null,
   "metadata": {},
   "outputs": [],
   "source": [
    "all_df = reduce_mem_usage(all_df)"
   ]
  },
  {
   "cell_type": "code",
   "execution_count": null,
   "metadata": {
    "scrolled": true
   },
   "outputs": [],
   "source": [
    "all_df.head()"
   ]
  },
  {
   "cell_type": "markdown",
   "metadata": {},
   "source": [
    "## 3.5 lag 데이터 제작"
   ]
  },
  {
   "cell_type": "code",
   "execution_count": null,
   "metadata": {},
   "outputs": [],
   "source": [
    "for i in range(28, 35):\n",
    "    all_df[f'lag_t{i}'] = all_df.groupby(['id'])['sales'].transform(lambda x: x.shift(i))\n",
    "\n"
   ]
  },
  {
   "cell_type": "code",
   "execution_count": null,
   "metadata": {},
   "outputs": [],
   "source": [
    "all_df = reduce_mem_usage(all_df)"
   ]
  },
  {
   "cell_type": "code",
   "execution_count": null,
   "metadata": {},
   "outputs": [],
   "source": [
    "for i in range(28, 35):\n",
    "    all_df[f'revenue_lag_t{i}'] = all_df.groupby(['id'])['revenue'].transform(lambda x: x.shift(i))\n"
   ]
  },
  {
   "cell_type": "code",
   "execution_count": null,
   "metadata": {},
   "outputs": [],
   "source": [
    "all_df = reduce_mem_usage(all_df)"
   ]
  },
  {
   "cell_type": "code",
   "execution_count": null,
   "metadata": {},
   "outputs": [],
   "source": [
    "all_df.columns"
   ]
  },
  {
   "cell_type": "code",
   "execution_count": null,
   "metadata": {},
   "outputs": [],
   "source": [
    "import pickle\n",
    "\n",
    "def make_sales_lag(all_df, lag_day):\n",
    "    for i in range(lag_day, lag_day + 14):\n",
    "        all_df[f'lag_t{i}'] = all_df.groupby(['id'])['sales'].transform(lambda x: x.shift(i))\n",
    "        if i % 7 == 0:\n",
    "            all_df = reduce_mem_usage(all_df)\n",
    "    \n",
    "    weeks = [7, 28, 56, 112, 168] # 7 30 60 120 180\n",
    "    \n",
    "    for i in weeks:\n",
    "        all_df[f'rolling_max_t{i}'] = all_df.groupby(['id'])['sales'].transform(lambda x: x.shift(lag_day).rolling(i).max())\n",
    "        all_df[f'rolling_min_t{i}'] = all_df.groupby(['id'])['sales'].transform(lambda x: x.shift(lag_day).rolling(i).min())\n",
    "        all_df[f'rolling_mean_t{i}'] = all_df.groupby(['id'])['sales'].transform(lambda x: x.shift(lag_day).rolling(i).mean())\n",
    "        all_df[f'rolling_std_t{i}'] = all_df.groupby(['id'])['sales'].transform(lambda x: x.shift(lag_day).rolling(i).std())\n",
    "    \n",
    "    all_df = reduce_mem_usage(all_df)\n",
    "    with open(f'inputs/lag_rolling_{lag_day}.pickle', 'wb') as f:\n",
    "        pickle.dump(all_df, f, protocol=4)\n",
    "\n",
    "# pickle 저장하려고 return 그냥 없앴음\n",
    "#     return all_df"
   ]
  },
  {
   "cell_type": "code",
   "execution_count": null,
   "metadata": {},
   "outputs": [],
   "source": [
    "make_sales_lag(all_df, 1)"
   ]
  },
  {
   "cell_type": "code",
   "execution_count": null,
   "metadata": {},
   "outputs": [],
   "source": [
    "all_df = make_target_lag(all_df, 1)"
   ]
  },
  {
   "cell_type": "code",
   "execution_count": null,
   "metadata": {},
   "outputs": [],
   "source": [
    "# for i in range(1, 29):\n",
    "#     all_df[f'lag_t{i}'] = all_df.groupby(['id'])['target'].transform(lambda x: x.shift(i)).fillna(-i)\n",
    "    \n",
    "#     if i % 10 == 7:\n",
    "#         all_df = reduce_mem_usage(all_df)"
   ]
  },
  {
   "cell_type": "code",
   "execution_count": null,
   "metadata": {},
   "outputs": [],
   "source": [
    "\n",
    "\n",
    "# all_df['lag_t28'] = all_df.groupby(['id'])['target'].transform(lambda x: x.shift(28))\n",
    "# all_df['lag_t29'] = all_df.groupby(['id'])['target'].transform(lambda x: x.shift(29))\n",
    "# all_df['lag_t30'] = all_df.groupby(['id'])['target'].transform(lambda x: x.shift(30))\n",
    "\n",
    "# # 새롭게 만들 거\n",
    "# all_df['lag_t24'] = all_df.groupby(['id'])['target'].transform(lambda x: x.shift(24))\n",
    "# all_df['lag_t25'] = all_df.groupby(['id'])['target'].transform(lambda x: x.shift(25))\n",
    "# all_df['lag_t26'] = all_df.groupby(['id'])['target'].transform(lambda x: x.shift(26))\n",
    "# all_df['lag_t27'] = all_df.groupby(['id'])['target'].transform(lambda x: x.shift(27))"
   ]
  },
  {
   "cell_type": "markdown",
   "metadata": {},
   "source": [
    "## 3.6 이동평균 피처"
   ]
  },
  {
   "cell_type": "code",
   "execution_count": null,
   "metadata": {
    "scrolled": true
   },
   "outputs": [],
   "source": [
    "all_df.head()"
   ]
  },
  {
   "cell_type": "code",
   "execution_count": null,
   "metadata": {},
   "outputs": [],
   "source": [
    "# 모델을 shift를 1한거부터 28한거까지 28개 만들라고 한다.\n",
    "\n",
    "weeks = [7, 28, 56, 84, 112, 168]\n",
    "for i in weeks:\n",
    "    all_df[f'rolling_mean_t{i}'] = all_df.groupby(['id'])['target'].transform(lambda x: x.shift(1).rolling(i).max())\n",
    "    all_df[f'rolling_mean_t{i}'] = all_df.groupby(['id'])['target'].transform(lambda x: x.shift(1).rolling(i).min())\n",
    "    all_df[f'rolling_mean_t{i}'] = all_df.groupby(['id'])['target'].transform(lambda x: x.shift(1).rolling(i).mean())\n",
    "    all_df[f'rolling_std_t{i}'] = all_df.groupby(['id'])['target'].transform(lambda x: x.shift(1).rolling(i).std())\n",
    "#     all_df = reduce_mem_usage(all_df)\n",
    "print('finish!!')"
   ]
  },
  {
   "cell_type": "code",
   "execution_count": null,
   "metadata": {},
   "outputs": [],
   "source": [
    "all_df.head()"
   ]
  },
  {
   "cell_type": "code",
   "execution_count": null,
   "metadata": {
    "code_folding": [],
    "scrolled": true
   },
   "outputs": [],
   "source": [
    "weeks = [7, 28, 56, 84, 112, 168] # 7, 30, 60, 90, 120, 180\n",
    "for i in weeks:\n",
    "    all_df[f'rolling_mean_t{i}'] = all_df.groupby(['id'])['sales'].transform(lambda x: x.shift(28).rolling(i).max())\n",
    "    all_df[f'rolling_mean_t{i}'] = all_df.groupby(['id'])['sales'].transform(lambda x: x.shift(28).rolling(i).min())\n",
    "    all_df[f'rolling_mean_t{i}'] = all_df.groupby(['id'])['sales'].transform(lambda x: x.shift(28).rolling(i).mean())\n",
    "    all_df[f'rolling_std_t{i}'] = all_df.groupby(['id'])['sales'].transform(lambda x: x.shift(28).rolling(i).std())\n",
    "#     all_df = reduce_mem_usage(all_df)\n",
    "print('finish!!')\n"
   ]
  },
  {
   "cell_type": "code",
   "execution_count": null,
   "metadata": {},
   "outputs": [],
   "source": []
  },
  {
   "cell_type": "code",
   "execution_count": null,
   "metadata": {},
   "outputs": [],
   "source": []
  },
  {
   "cell_type": "code",
   "execution_count": null,
   "metadata": {},
   "outputs": [],
   "source": [
    "all_df = reduce_mem_usage(all_df)"
   ]
  },
  {
   "cell_type": "code",
   "execution_count": null,
   "metadata": {},
   "outputs": [],
   "source": [
    "all_df.head()"
   ]
  },
  {
   "cell_type": "code",
   "execution_count": null,
   "metadata": {},
   "outputs": [],
   "source": [
    "all_df[(all_df.week == 17) & (all_df.year == 2015)]"
   ]
  },
  {
   "cell_type": "markdown",
   "metadata": {},
   "source": [
    "### 연도별 판매량 그래프 분석중\n",
    "\n",
    "- 2016년 4월을 맞춰야 해서, 2015년, 2014년, 2013년을 보고 있는데, 2015년의 그래프가 2014, 2013의 추이에 비해 다른 거 같다."
   ]
  },
  {
   "cell_type": "code",
   "execution_count": null,
   "metadata": {},
   "outputs": [],
   "source": [
    "plt.figure(figsize = (15,10))\n",
    "plt.plot(all_df[(all_df.week == 17) & (all_df.year == 2013)].groupby('item_id')['target'].mean()[:50])"
   ]
  },
  {
   "cell_type": "code",
   "execution_count": null,
   "metadata": {},
   "outputs": [],
   "source": [
    "plt.figure(figsize = (15,10))\n",
    "plt.plot(all_df[(all_df.week == 17) & (all_df.year == 2014)].groupby('item_id')['target'].mean()[:50])"
   ]
  },
  {
   "cell_type": "code",
   "execution_count": null,
   "metadata": {},
   "outputs": [],
   "source": [
    "plt.figure(figsize = (15,10))\n",
    "plt.plot(all_df[(all_df.week == 17) & (all_df.year == 2015)].groupby('item_id')['target'].mean()[:50])"
   ]
  },
  {
   "cell_type": "code",
   "execution_count": null,
   "metadata": {},
   "outputs": [],
   "source": []
  },
  {
   "cell_type": "code",
   "execution_count": null,
   "metadata": {},
   "outputs": [],
   "source": [
    "all_df[all_df.week == 17].groupby('year')['target'].mean()"
   ]
  },
  {
   "cell_type": "code",
   "execution_count": null,
   "metadata": {},
   "outputs": [],
   "source": [
    "all_df[all_df.week == 18].groupby('year')['target'].mean()"
   ]
  },
  {
   "cell_type": "code",
   "execution_count": null,
   "metadata": {},
   "outputs": [],
   "source": [
    "all_df[all_df.week == 19].groupby('year')['target'].mean()"
   ]
  },
  {
   "cell_type": "code",
   "execution_count": null,
   "metadata": {},
   "outputs": [],
   "source": [
    "all_df[all_df.week == 20].groupby('year')['target'].mean()"
   ]
  },
  {
   "cell_type": "code",
   "execution_count": null,
   "metadata": {},
   "outputs": [],
   "source": []
  },
  {
   "cell_type": "markdown",
   "metadata": {},
   "source": [
    "## 3.7 price 통계량 피쳐"
   ]
  },
  {
   "cell_type": "code",
   "execution_count": null,
   "metadata": {
    "scrolled": true
   },
   "outputs": [],
   "source": [
    "for i in range(28, 35):\n",
    "        all_df[f'price_lag_t{i}'] = all_df.groupby(['id'])['sell_price'].transform(lambda x: x.shift(i))"
   ]
  },
  {
   "cell_type": "code",
   "execution_count": null,
   "metadata": {},
   "outputs": [],
   "source": [
    "all_df['rolling_price_std_t14'] = all_df.groupby(['id'])['sell_price'].transform(lambda x: x.rolling(14).std())\n"
   ]
  },
  {
   "cell_type": "code",
   "execution_count": null,
   "metadata": {},
   "outputs": [],
   "source": [
    "all_df['lag_price_t1'] = all_df.groupby(['id'])['sell_price'].transform(lambda x: x.shift(1))\n",
    "\n",
    "all_df['price_change_t1'] = (all_df['lag_price_t1'] - all_df['sell_price']) / (all_df['lag_price_t1'])\n",
    "\n",
    "all_df['rolling_price_max_t365'] = all_df.groupby(['id'])['sell_price'].transform(lambda x: x.shift(1).rolling(365).max())\n",
    "\n",
    "all_df['price_change_t365'] = (all_df['rolling_price_max_t365'] - all_df['sell_price']) / (all_df['rolling_price_max_t365'])\n",
    "\n",
    "all_df['rolling_price_std_t7'] = all_df.groupby(['id'])['sell_price'].transform(lambda x: x.rolling(7).std())\n",
    "\n",
    "# 새롭게 만들거\n",
    "# all_df['rolling_price_std_t32'] = all_df.groupby(['id'])['sell_price'].transform(lambda x: x.rolling(32).std())\n",
    "\n",
    "all_df['rolling_price_std_t28'] = all_df.groupby(['id'])['sell_price'].transform(lambda x: x.rolling(28).std())\n",
    "# all_df = reduce_mem_usage(all_df)\n",
    "\n",
    "\n",
    "all_df = all_df.drop(['rolling_price_max_t365', 'lag_price_t1'], axis = 1)"
   ]
  },
  {
   "cell_type": "code",
   "execution_count": null,
   "metadata": {
    "scrolled": true
   },
   "outputs": [],
   "source": [
    "all_df = reduce_mem_usage(all_df)"
   ]
  },
  {
   "cell_type": "code",
   "execution_count": null,
   "metadata": {
    "scrolled": true
   },
   "outputs": [],
   "source": [
    "all_df.head()"
   ]
  },
  {
   "cell_type": "code",
   "execution_count": null,
   "metadata": {},
   "outputs": [],
   "source": [
    "import pickle\n",
    "\n",
    "with open('inputs/all_df6.pickle', 'wb') as f:\n",
    "    pickle.dump(all_df, f, protocol=4)\n"
   ]
  },
  {
   "cell_type": "code",
   "execution_count": null,
   "metadata": {},
   "outputs": [],
   "source": [
    "import pickle\n",
    "\n",
    "\n",
    "with open('inputs/all_df.pickle', 'rb') as f:\n",
    "    all_df = pickle.load(f)\n"
   ]
  },
  {
   "cell_type": "markdown",
   "metadata": {},
   "source": [
    "# 4. 모델 제작"
   ]
  },
  {
   "cell_type": "code",
   "execution_count": null,
   "metadata": {},
   "outputs": [],
   "source": [
    "# from sklearn.ensemble import RandomForestRegressor\n",
    "\n",
    "# rf = RandomForestRegressor(n_estimators=100, n_jobs=-1)\n",
    "# rf.fit(train2, np.log(train['target'] + 1))\n",
    "# result = rf.predict(test2)"
   ]
  },
  {
   "cell_type": "code",
   "execution_count": null,
   "metadata": {},
   "outputs": [],
   "source": [
    "# from lightgbm import LGBMRegressor\n",
    "# # lgb = LGBMRegressor(num_leaves=2000, colsample_bytree=0.6, subsample=0.6, n_estimators=600, learning_rate=0.025, n_jobs=-1, device='gpu', max_bin = 63)\n",
    "# lgb = LGBMRegressor(num_leaves=20, colsample_bytree=0.6, subsample=0.6, n_estimators=60, learning_rate=0.02, n_jobs=-1, device='cpu')\n",
    "\n",
    "# lgb.fit(train, target)\n",
    "# result = lgb.predict(test)"
   ]
  },
  {
   "cell_type": "markdown",
   "metadata": {},
   "source": [
    "## 4.1 KFold - LGBM 모델"
   ]
  },
  {
   "cell_type": "code",
   "execution_count": null,
   "metadata": {},
   "outputs": [],
   "source": [
    "import lightgbm as lgb\n",
    "import gc\n",
    "\n",
    "features = ['item_id', 'dept_id', 'cat_id', 'store_id', 'state_id', 'year', 'month', 'week', 'day', 'weekday', 'event_name_1', 'event_type_1',  \n",
    "            'snap_CA', 'snap_TX', 'snap_WI', 'sell_price', 'lag_t28', 'lag_t29', 'lag_t30', 'rolling_mean_t7', 'rolling_std_t7', 'rolling_mean_t30', 'rolling_mean_t90', \n",
    "            'rolling_mean_t180', 'rolling_std_t30', 'price_change_t1', 'price_change_t365', 'rolling_price_std_t7', 'rolling_price_std_t30']\n",
    "\n",
    "# 나중에 합칠 때 필요해서 test에 선언\n",
    "test = all_df[len(train):]\n",
    "\n",
    "train_set_X = all_df[:len(train)]\n",
    "train_set_y = train_set_X['target']\n",
    "\n",
    "train_set_X = train_set_X[features]\n",
    "\n",
    "# 테스트 셋\n",
    "test_set = all_df[len(train):]\n",
    "test_set = test_set[features]\n",
    "\n",
    "del all_df\n",
    "\n",
    "gc.collect()"
   ]
  },
  {
   "cell_type": "code",
   "execution_count": null,
   "metadata": {},
   "outputs": [],
   "source": [
    "pip uninstall pandas_profiling"
   ]
  },
  {
   "cell_type": "code",
   "execution_count": null,
   "metadata": {},
   "outputs": [],
   "source": [
    "n_fold = 2\n",
    "folds = KFold(n_splits=n_fold, shuffle=True)\n",
    "splits = folds.split(train_set_X, train_set_y)\n",
    "\n",
    "y_preds = np.zeros(test.shape[0])\n",
    "y_oof = np.zeros(train.shape[0])\n",
    "\n",
    "feature_importances = pd.DataFrame()\n",
    "feature_importances['feature'] = train_set_X.columns\n",
    "mean_score = []\n",
    "eval_results = []\n",
    "\n",
    "for fold_n, (train_index, valid_index) in enumerate(splits):\n",
    "    \n",
    "    print('Fold:',fold_n+1)\n",
    "    \n",
    "    X_train, X_valid = train_set_X.iloc[train_index], train_set_X.iloc[valid_index]\n",
    "    y_train, y_valid = train_set_y.iloc[train_index], train_set_y.iloc[valid_index]\n",
    "    \n",
    "    lgb = LGBMRegressor(\n",
    "        boosting_type = 'gbdt',\n",
    "        num_leaves = 400,\n",
    "        colsample_bytree = 0.8,\n",
    "        subsample = 0.8,\n",
    "        n_estimators = 20,\n",
    "        learning_rate = 0.01,\n",
    "        n_jobs = -1,\n",
    "        device = 'gpu'\n",
    "    )\n",
    "    lgb.fit(X_train, y_train, eval_set=[(X_valid, y_valid)], early_stopping_rounds = 50, verbose = True)\n",
    "    eval_results.append(lgb.evals_result_)\n",
    "    # 피쳐중요도 작성\n",
    "    feature_importances[f'fold_{fold_n + 1}'] = lgb.feature_importances_\n",
    "    \n",
    "    # validation predict\n",
    "    y_pred_valid = lgb.predict(X_valid, num_iteration=lgb.best_iteration_)\n",
    "\n",
    "    y_oof[valid_index] = y_pred_valid\n",
    "    \n",
    "    val_score = np.sqrt(metrics.mean_squared_error(y_pred_valid, y_valid))\n",
    "    \n",
    "    print(f'val rmse score is {val_score}')\n",
    "    \n",
    "    mean_score.append(val_score)\n",
    "    \n",
    "    y_preds += lgb.predict(test_set, num_iteration=lgb.best_iteration_) / n_fold\n",
    "    \n",
    "    del X_train, X_valid, y_train, y_valid\n",
    "\n",
    "print('mean rmse score over folds is',np.mean(mean_score))\n",
    "test['target'] = y_preds\n",
    "\n"
   ]
  },
  {
   "cell_type": "code",
   "execution_count": null,
   "metadata": {},
   "outputs": [],
   "source": [
    "tmp1 = list(eval_results[0]['valid_0'].values())[0]"
   ]
  },
  {
   "cell_type": "code",
   "execution_count": null,
   "metadata": {
    "scrolled": true
   },
   "outputs": [],
   "source": [
    "tmp = list(eval_results[1]['valid_0'].values())[0]"
   ]
  },
  {
   "cell_type": "code",
   "execution_count": null,
   "metadata": {},
   "outputs": [],
   "source": [
    "eval_results[0].values().values()"
   ]
  },
  {
   "cell_type": "code",
   "execution_count": null,
   "metadata": {},
   "outputs": [],
   "source": []
  },
  {
   "cell_type": "code",
   "execution_count": null,
   "metadata": {},
   "outputs": [],
   "source": [
    "eval_results[0]"
   ]
  },
  {
   "cell_type": "code",
   "execution_count": null,
   "metadata": {},
   "outputs": [],
   "source": [
    "features = train_set_X.columns\n",
    "params = lgb.get_params()"
   ]
  },
  {
   "cell_type": "markdown",
   "metadata": {},
   "source": [
    "## 4.2 KFold - XGB 모델"
   ]
  },
  {
   "cell_type": "code",
   "execution_count": null,
   "metadata": {},
   "outputs": [],
   "source": [
    "all_df = reduce_mem_usage(all_df)\n",
    "\n",
    "test = all_df[len(train):]\n",
    "\n",
    "features = ['item_id', 'dept_id', 'cat_id', 'store_id', 'state_id', 'year', 'month', 'week', 'day', 'weekday', 'event_name_1', 'event_type_1',  \n",
    "            'snap_CA', 'snap_TX', 'snap_WI', 'sell_price']\n",
    "\n",
    "\n",
    "\n",
    "train_set_X = all_df[:len(train)]\n",
    "train_set_y = train_set_X['target']\n",
    "\n",
    "train_set_X = train_set_X[features]\n",
    "\n",
    "# 테스트 셋\n",
    "test_set = all_df[len(train):]\n",
    "test_set = test_set[features]\n",
    "\n",
    "del all_df"
   ]
  },
  {
   "cell_type": "code",
   "execution_count": null,
   "metadata": {},
   "outputs": [],
   "source": [
    "train_set_X['sell_price'] = train_set_X['sell_price'].fillna(-1)"
   ]
  },
  {
   "cell_type": "code",
   "execution_count": null,
   "metadata": {},
   "outputs": [],
   "source": []
  },
  {
   "cell_type": "code",
   "execution_count": null,
   "metadata": {
    "scrolled": true
   },
   "outputs": [],
   "source": [
    "train_set_X.head()"
   ]
  },
  {
   "cell_type": "code",
   "execution_count": null,
   "metadata": {
    "scrolled": true
   },
   "outputs": [],
   "source": [
    "import xgboost as xgb\n",
    "\n",
    "n_fold = 5\n",
    "folds = KFold(n_splits=5, shuffle=True)\n",
    "splits = folds.split(train_set_X, train_set_y)\n",
    "\n",
    "y_preds = np.zeros(test.shape[0])\n",
    "# y_oof = np.zeros(train.shape[0])\n",
    "\n",
    "feature_importances = pd.DataFrame()\n",
    "feature_importances['feature'] = train_set_X.columns\n",
    "mean_score = []\n",
    "\n",
    "# dtest = xgb.DMatrix(data=test_set)\n",
    "\n",
    "\n",
    "for fold_n, (train_index, valid_index) in enumerate(splits):\n",
    "    print('Fold:',fold_n+1)\n",
    "    \n",
    "    X_train, X_valid = train_set_X.iloc[train_index], train_set_X.iloc[valid_index]\n",
    "    y_train, y_valid = train_set_y.iloc[train_index], train_set_y.iloc[valid_index]\n",
    "    \n",
    "    \n",
    "    xgb_model = xgb.XGBRegressor(colsample_bytree = 0.8, learning_rate = 0.02,subsample=0.8,\n",
    "                max_depth = 12, n_estimators = 4000, tree_method='gpu_hist')\n",
    "    \n",
    "    xgb_model.fit(X_train, y_train, eval_set=[(X_valid, y_valid)], early_stopping_rounds=50)\n",
    "    \n",
    "    # 피쳐중요도 작성\n",
    "    feature_importances[f'fold_{fold_n + 1}'] = xgb_model.feature_importances_\n",
    "    \n",
    "    # validation predict\n",
    "    y_pred_valid = xgb_model.predict(X_valid)\n",
    "    # y_oof[valid_index] = y_pred_valid\n",
    "    val_score = np.sqrt(metrics.mean_squared_error(y_pred_valid, y_valid))\n",
    "    print(f'val rmse score is {val_score}')\n",
    "\n",
    "    # test 값 예측\n",
    "    y_preds += xgb_model.predict(test_set) / n_fold\n",
    "    del X_train, X_valid, y_train, y_valid, y_pred_valid, val_score\n",
    "\n",
    "print('mean rmse score over folds is',np.mean(mean_score))\n",
    "test['target'] = y_preds\n",
    "\n",
    "features = train_set_X.columns\n",
    "params = xgb_model.get_params()"
   ]
  },
  {
   "cell_type": "markdown",
   "metadata": {},
   "source": [
    "## 4.3 TimeSeriesSplit - LGBM 모델"
   ]
  },
  {
   "cell_type": "code",
   "execution_count": null,
   "metadata": {},
   "outputs": [],
   "source": [
    "# n_fold = 10\n",
    "# folds = TimeSeriesSplit(n_splits=n_fold)\n",
    "# splits = folds.split(train_set_X, train_set_y)\n",
    "\n",
    "# y_preds = np.zeros(test.shape[0])\n",
    "# y_oof = np.zeros(train.shape[0])\n",
    "\n",
    "# feature_importances = pd.DataFrame()\n",
    "# feature_importances['feature'] = train_set_X.columns\n",
    "# mean_score = []\n",
    "\n",
    "# for fold_n, (train_index, valid_index) in enumerate(splits):\n",
    "#     print('Fold:',fold_n+1)\n",
    "    \n",
    "#     X_train, X_valid = train_set_X.iloc[train_index], train_set_X.iloc[valid_index]\n",
    "#     y_train, y_valid = train_set_y.iloc[train_index], train_set_y.iloc[valid_index]\n",
    "    \n",
    "#     lgb = LGBMRegressor(\n",
    "#         num_leaves = 1000,\n",
    "#         colsample_bytree = 0.8,\n",
    "#         subsample = 0.8,\n",
    "#         n_estimators = 2500,\n",
    "#         learning_rate = 0.01,\n",
    "#         n_jobs = -1,\n",
    "#         device = 'cpu'\n",
    "#     )\n",
    "    \n",
    "#     lgb.fit(X_train, y_train, eval_set=[(X_valid, y_valid)], early_stopping_rounds = 50, verbose = False)\n",
    "\n",
    "#     feature_importances[f'fold_{fold_n + 1}'] = lgb.feature_importances_\n",
    "    \n",
    "#     y_pred_valid = lgb.predict(X_valid, num_iteration=lgb.best_iteration_)\n",
    "    \n",
    "#     y_oof[valid_index] = y_pred_valid\n",
    "    \n",
    "#     val_score = np.sqrt(metrics.mean_squared_error(y_pred_valid, y_valid))\n",
    "    \n",
    "#     print(f'val rmse score is {val_score}')\n",
    "    \n",
    "#     mean_score.append(val_score)\n",
    "    \n",
    "#     y_preds += lgb.predict(test_set, num_iteration=lgb.best_iteration_) / n_fold\n",
    "    \n",
    "#     del X_train, X_valid, y_train, y_valid\n",
    "\n",
    "# print('mean rmse score over folds is',np.mean(mean_score))\n",
    "\n",
    "# test['target'] = y_preds"
   ]
  },
  {
   "cell_type": "code",
   "execution_count": null,
   "metadata": {},
   "outputs": [],
   "source": []
  },
  {
   "cell_type": "markdown",
   "metadata": {},
   "source": [
    "## 4.4 feature_importance 확인"
   ]
  },
  {
   "cell_type": "code",
   "execution_count": null,
   "metadata": {},
   "outputs": [],
   "source": [
    "feature_importances"
   ]
  },
  {
   "cell_type": "markdown",
   "metadata": {},
   "source": [
    "# 5. 예측 및 제출"
   ]
  },
  {
   "cell_type": "code",
   "execution_count": null,
   "metadata": {
    "scrolled": true
   },
   "outputs": [],
   "source": [
    "sub = pd.read_csv('inputs/sample_submission.csv')\n",
    "\n",
    "predictions = test[['id', 'date', 'target']]\n",
    "predictions = pd.pivot(predictions, index = 'id', columns = 'date', values = 'target').reset_index()\n",
    "predictions.columns = ['id'] + ['F' + str(i + 1) for i in range(28)]\n",
    "\n",
    "evaluation_rows = [row for row in sub['id'] if 'evaluation' in row] \n",
    "evaluation = sub[sub['id'].isin(evaluation_rows)]\n",
    "\n",
    "validation = sub[['id']].merge(predictions, on = 'id')\n",
    "final = pd.concat([validation, evaluation])\n",
    "final.to_csv('submissions/submission.csv', index = False)"
   ]
  },
  {
   "cell_type": "code",
   "execution_count": null,
   "metadata": {},
   "outputs": [],
   "source": [
    "for i in range(1,29):\n",
    "    final['F'+str(i)] *= 1.04\n",
    "    \n",
    "submission.to_csv('sub.csv', index=False) "
   ]
  },
  {
   "cell_type": "code",
   "execution_count": null,
   "metadata": {},
   "outputs": [],
   "source": [
    "test.head()"
   ]
  },
  {
   "cell_type": "code",
   "execution_count": null,
   "metadata": {},
   "outputs": [],
   "source": [
    "final.head()"
   ]
  },
  {
   "cell_type": "markdown",
   "metadata": {},
   "source": [
    "https://www.kaggle.com/c/m5-forecasting-accuracy/submit"
   ]
  },
  {
   "cell_type": "code",
   "execution_count": null,
   "metadata": {},
   "outputs": [],
   "source": [
    "time.sleep(2)\n",
    "os.chdir(\"submissions\")\n",
    "!kaggle competitions submit -c m5-forecasting-accuracy -f submission.csv -m lgb\n",
    "os.chdir(\"../\")"
   ]
  },
  {
   "cell_type": "markdown",
   "metadata": {},
   "source": [
    "# 6. 모델 파라미터, 피처 기록 및 모델 저장하기"
   ]
  },
  {
   "cell_type": "code",
   "execution_count": null,
   "metadata": {},
   "outputs": [],
   "source": [
    "write_record(features, params)"
   ]
  },
  {
   "cell_type": "code",
   "execution_count": null,
   "metadata": {},
   "outputs": [],
   "source": [
    "import joblib\n",
    "# save model\n",
    "# joblib.dump(lgb, 'models/lgb1.pkl')\n",
    "# load model\n",
    "# lgb = joblib.load('models/lgb.pkl')"
   ]
  },
  {
   "cell_type": "code",
   "execution_count": 27,
   "metadata": {},
   "outputs": [],
   "source": [
    "tmp1 = pd.read_csv('submissions/submission.csv')\n",
    "tmp2 = pd.read_csv('submissions/submission1.csv')\n",
    "\n"
   ]
  },
  {
   "cell_type": "code",
   "execution_count": 17,
   "metadata": {},
   "outputs": [],
   "source": [
    "tmp3 = tmp1[:30490].sort_values('id').reset_index(drop=True)"
   ]
  },
  {
   "cell_type": "code",
   "execution_count": 23,
   "metadata": {},
   "outputs": [],
   "source": [
    "for i in range(1, 29):\n",
    "    tmp3[f'F{i}'] = tmp3[f'F{i}'] * 0.5 + tmp4[f'F{i}'] * 0.5"
   ]
  },
  {
   "cell_type": "code",
   "execution_count": 18,
   "metadata": {
    "scrolled": true
   },
   "outputs": [],
   "source": [
    "tmp4 = tmp2[:30490]"
   ]
  },
  {
   "cell_type": "code",
   "execution_count": 22,
   "metadata": {},
   "outputs": [
    {
     "data": {
      "text/html": [
       "<div>\n",
       "<style scoped>\n",
       "    .dataframe tbody tr th:only-of-type {\n",
       "        vertical-align: middle;\n",
       "    }\n",
       "\n",
       "    .dataframe tbody tr th {\n",
       "        vertical-align: top;\n",
       "    }\n",
       "\n",
       "    .dataframe thead th {\n",
       "        text-align: right;\n",
       "    }\n",
       "</style>\n",
       "<table border=\"1\" class=\"dataframe\">\n",
       "  <thead>\n",
       "    <tr style=\"text-align: right;\">\n",
       "      <th></th>\n",
       "      <th>id</th>\n",
       "      <th>F1</th>\n",
       "      <th>F2</th>\n",
       "      <th>F3</th>\n",
       "      <th>F4</th>\n",
       "      <th>F5</th>\n",
       "      <th>F6</th>\n",
       "      <th>F7</th>\n",
       "      <th>F8</th>\n",
       "      <th>F9</th>\n",
       "      <th>F10</th>\n",
       "      <th>F11</th>\n",
       "      <th>F12</th>\n",
       "      <th>F13</th>\n",
       "      <th>F14</th>\n",
       "      <th>F15</th>\n",
       "      <th>F16</th>\n",
       "      <th>F17</th>\n",
       "      <th>F18</th>\n",
       "      <th>F19</th>\n",
       "      <th>F20</th>\n",
       "      <th>F21</th>\n",
       "      <th>F22</th>\n",
       "      <th>F23</th>\n",
       "      <th>F24</th>\n",
       "      <th>F25</th>\n",
       "      <th>F26</th>\n",
       "      <th>F27</th>\n",
       "      <th>F28</th>\n",
       "    </tr>\n",
       "  </thead>\n",
       "  <tbody>\n",
       "    <tr>\n",
       "      <th>30485</th>\n",
       "      <td>HOUSEHOLD_2_516_TX_2_validation</td>\n",
       "      <td>0.264382</td>\n",
       "      <td>0.227260</td>\n",
       "      <td>0.238415</td>\n",
       "      <td>0.251563</td>\n",
       "      <td>0.283494</td>\n",
       "      <td>0.321790</td>\n",
       "      <td>0.329201</td>\n",
       "      <td>0.268389</td>\n",
       "      <td>0.277989</td>\n",
       "      <td>0.259787</td>\n",
       "      <td>0.253154</td>\n",
       "      <td>0.280791</td>\n",
       "      <td>0.299535</td>\n",
       "      <td>0.307178</td>\n",
       "      <td>0.305109</td>\n",
       "      <td>0.259613</td>\n",
       "      <td>0.264304</td>\n",
       "      <td>0.255079</td>\n",
       "      <td>0.253656</td>\n",
       "      <td>0.325838</td>\n",
       "      <td>0.357291</td>\n",
       "      <td>0.262741</td>\n",
       "      <td>0.248800</td>\n",
       "      <td>0.269774</td>\n",
       "      <td>0.271202</td>\n",
       "      <td>0.288891</td>\n",
       "      <td>0.314515</td>\n",
       "      <td>0.312905</td>\n",
       "    </tr>\n",
       "    <tr>\n",
       "      <th>30486</th>\n",
       "      <td>HOUSEHOLD_2_516_TX_3_validation</td>\n",
       "      <td>0.123565</td>\n",
       "      <td>0.146030</td>\n",
       "      <td>0.160017</td>\n",
       "      <td>0.154190</td>\n",
       "      <td>0.170443</td>\n",
       "      <td>0.187848</td>\n",
       "      <td>0.189963</td>\n",
       "      <td>0.113738</td>\n",
       "      <td>0.163735</td>\n",
       "      <td>0.228379</td>\n",
       "      <td>0.267454</td>\n",
       "      <td>-0.211207</td>\n",
       "      <td>0.239072</td>\n",
       "      <td>0.442737</td>\n",
       "      <td>0.128051</td>\n",
       "      <td>0.449291</td>\n",
       "      <td>0.701380</td>\n",
       "      <td>0.420551</td>\n",
       "      <td>0.128821</td>\n",
       "      <td>0.220964</td>\n",
       "      <td>0.527878</td>\n",
       "      <td>0.224892</td>\n",
       "      <td>0.247345</td>\n",
       "      <td>0.228096</td>\n",
       "      <td>0.249551</td>\n",
       "      <td>0.259782</td>\n",
       "      <td>0.286912</td>\n",
       "      <td>0.233638</td>\n",
       "    </tr>\n",
       "    <tr>\n",
       "      <th>30487</th>\n",
       "      <td>HOUSEHOLD_2_516_WI_1_validation</td>\n",
       "      <td>0.054564</td>\n",
       "      <td>0.052851</td>\n",
       "      <td>0.046759</td>\n",
       "      <td>0.053853</td>\n",
       "      <td>0.075983</td>\n",
       "      <td>0.098401</td>\n",
       "      <td>0.098747</td>\n",
       "      <td>0.061978</td>\n",
       "      <td>0.071679</td>\n",
       "      <td>0.064387</td>\n",
       "      <td>0.063544</td>\n",
       "      <td>0.083152</td>\n",
       "      <td>0.109449</td>\n",
       "      <td>0.064891</td>\n",
       "      <td>0.067195</td>\n",
       "      <td>0.066569</td>\n",
       "      <td>0.067796</td>\n",
       "      <td>0.065404</td>\n",
       "      <td>0.108571</td>\n",
       "      <td>0.146021</td>\n",
       "      <td>0.144962</td>\n",
       "      <td>0.088349</td>\n",
       "      <td>0.094105</td>\n",
       "      <td>0.089260</td>\n",
       "      <td>0.093523</td>\n",
       "      <td>0.093794</td>\n",
       "      <td>0.131192</td>\n",
       "      <td>0.130971</td>\n",
       "    </tr>\n",
       "    <tr>\n",
       "      <th>30488</th>\n",
       "      <td>HOUSEHOLD_2_516_WI_2_validation</td>\n",
       "      <td>0.159665</td>\n",
       "      <td>0.137026</td>\n",
       "      <td>0.121786</td>\n",
       "      <td>0.121215</td>\n",
       "      <td>0.149286</td>\n",
       "      <td>0.164859</td>\n",
       "      <td>0.165062</td>\n",
       "      <td>0.122794</td>\n",
       "      <td>0.124304</td>\n",
       "      <td>0.116507</td>\n",
       "      <td>0.115516</td>\n",
       "      <td>0.136033</td>\n",
       "      <td>0.162729</td>\n",
       "      <td>0.118852</td>\n",
       "      <td>0.123027</td>\n",
       "      <td>0.108807</td>\n",
       "      <td>0.116938</td>\n",
       "      <td>0.116757</td>\n",
       "      <td>0.134753</td>\n",
       "      <td>0.158184</td>\n",
       "      <td>0.142374</td>\n",
       "      <td>0.098689</td>\n",
       "      <td>0.099440</td>\n",
       "      <td>0.089032</td>\n",
       "      <td>0.097805</td>\n",
       "      <td>0.120338</td>\n",
       "      <td>0.143473</td>\n",
       "      <td>0.145597</td>\n",
       "    </tr>\n",
       "    <tr>\n",
       "      <th>30489</th>\n",
       "      <td>HOUSEHOLD_2_516_WI_3_validation</td>\n",
       "      <td>0.055724</td>\n",
       "      <td>0.053526</td>\n",
       "      <td>0.050250</td>\n",
       "      <td>0.057430</td>\n",
       "      <td>0.082869</td>\n",
       "      <td>0.090550</td>\n",
       "      <td>0.100327</td>\n",
       "      <td>0.067746</td>\n",
       "      <td>0.077405</td>\n",
       "      <td>0.067664</td>\n",
       "      <td>0.065293</td>\n",
       "      <td>0.082118</td>\n",
       "      <td>0.098855</td>\n",
       "      <td>0.065623</td>\n",
       "      <td>0.057046</td>\n",
       "      <td>0.058732</td>\n",
       "      <td>0.062285</td>\n",
       "      <td>0.059799</td>\n",
       "      <td>0.079446</td>\n",
       "      <td>0.095920</td>\n",
       "      <td>0.094396</td>\n",
       "      <td>0.055668</td>\n",
       "      <td>0.064945</td>\n",
       "      <td>0.056837</td>\n",
       "      <td>0.064531</td>\n",
       "      <td>0.095609</td>\n",
       "      <td>0.108202</td>\n",
       "      <td>0.109065</td>\n",
       "    </tr>\n",
       "  </tbody>\n",
       "</table>\n",
       "</div>"
      ],
      "text/plain": [
       "                                    id        F1        F2        F3  \\\n",
       "30485  HOUSEHOLD_2_516_TX_2_validation  0.264382  0.227260  0.238415   \n",
       "30486  HOUSEHOLD_2_516_TX_3_validation  0.123565  0.146030  0.160017   \n",
       "30487  HOUSEHOLD_2_516_WI_1_validation  0.054564  0.052851  0.046759   \n",
       "30488  HOUSEHOLD_2_516_WI_2_validation  0.159665  0.137026  0.121786   \n",
       "30489  HOUSEHOLD_2_516_WI_3_validation  0.055724  0.053526  0.050250   \n",
       "\n",
       "             F4        F5        F6        F7        F8        F9       F10  \\\n",
       "30485  0.251563  0.283494  0.321790  0.329201  0.268389  0.277989  0.259787   \n",
       "30486  0.154190  0.170443  0.187848  0.189963  0.113738  0.163735  0.228379   \n",
       "30487  0.053853  0.075983  0.098401  0.098747  0.061978  0.071679  0.064387   \n",
       "30488  0.121215  0.149286  0.164859  0.165062  0.122794  0.124304  0.116507   \n",
       "30489  0.057430  0.082869  0.090550  0.100327  0.067746  0.077405  0.067664   \n",
       "\n",
       "            F11       F12       F13       F14       F15       F16       F17  \\\n",
       "30485  0.253154  0.280791  0.299535  0.307178  0.305109  0.259613  0.264304   \n",
       "30486  0.267454 -0.211207  0.239072  0.442737  0.128051  0.449291  0.701380   \n",
       "30487  0.063544  0.083152  0.109449  0.064891  0.067195  0.066569  0.067796   \n",
       "30488  0.115516  0.136033  0.162729  0.118852  0.123027  0.108807  0.116938   \n",
       "30489  0.065293  0.082118  0.098855  0.065623  0.057046  0.058732  0.062285   \n",
       "\n",
       "            F18       F19       F20       F21       F22       F23       F24  \\\n",
       "30485  0.255079  0.253656  0.325838  0.357291  0.262741  0.248800  0.269774   \n",
       "30486  0.420551  0.128821  0.220964  0.527878  0.224892  0.247345  0.228096   \n",
       "30487  0.065404  0.108571  0.146021  0.144962  0.088349  0.094105  0.089260   \n",
       "30488  0.116757  0.134753  0.158184  0.142374  0.098689  0.099440  0.089032   \n",
       "30489  0.059799  0.079446  0.095920  0.094396  0.055668  0.064945  0.056837   \n",
       "\n",
       "            F25       F26       F27       F28  \n",
       "30485  0.271202  0.288891  0.314515  0.312905  \n",
       "30486  0.249551  0.259782  0.286912  0.233638  \n",
       "30487  0.093523  0.093794  0.131192  0.130971  \n",
       "30488  0.097805  0.120338  0.143473  0.145597  \n",
       "30489  0.064531  0.095609  0.108202  0.109065  "
      ]
     },
     "execution_count": 22,
     "metadata": {},
     "output_type": "execute_result"
    }
   ],
   "source": [
    "\n",
    "tmp3.tail()"
   ]
  },
  {
   "cell_type": "code",
   "execution_count": 21,
   "metadata": {},
   "outputs": [
    {
     "data": {
      "text/html": [
       "<div>\n",
       "<style scoped>\n",
       "    .dataframe tbody tr th:only-of-type {\n",
       "        vertical-align: middle;\n",
       "    }\n",
       "\n",
       "    .dataframe tbody tr th {\n",
       "        vertical-align: top;\n",
       "    }\n",
       "\n",
       "    .dataframe thead th {\n",
       "        text-align: right;\n",
       "    }\n",
       "</style>\n",
       "<table border=\"1\" class=\"dataframe\">\n",
       "  <thead>\n",
       "    <tr style=\"text-align: right;\">\n",
       "      <th></th>\n",
       "      <th>id</th>\n",
       "      <th>F1</th>\n",
       "      <th>F2</th>\n",
       "      <th>F3</th>\n",
       "      <th>F4</th>\n",
       "      <th>F5</th>\n",
       "      <th>F6</th>\n",
       "      <th>F7</th>\n",
       "      <th>F8</th>\n",
       "      <th>F9</th>\n",
       "      <th>F10</th>\n",
       "      <th>F11</th>\n",
       "      <th>F12</th>\n",
       "      <th>F13</th>\n",
       "      <th>F14</th>\n",
       "      <th>F15</th>\n",
       "      <th>F16</th>\n",
       "      <th>F17</th>\n",
       "      <th>F18</th>\n",
       "      <th>F19</th>\n",
       "      <th>F20</th>\n",
       "      <th>F21</th>\n",
       "      <th>F22</th>\n",
       "      <th>F23</th>\n",
       "      <th>F24</th>\n",
       "      <th>F25</th>\n",
       "      <th>F26</th>\n",
       "      <th>F27</th>\n",
       "      <th>F28</th>\n",
       "    </tr>\n",
       "  </thead>\n",
       "  <tbody>\n",
       "    <tr>\n",
       "      <th>30485</th>\n",
       "      <td>HOUSEHOLD_2_516_TX_2_validation</td>\n",
       "      <td>0.274609</td>\n",
       "      <td>0.254821</td>\n",
       "      <td>0.271785</td>\n",
       "      <td>0.256904</td>\n",
       "      <td>0.284230</td>\n",
       "      <td>0.365086</td>\n",
       "      <td>0.342923</td>\n",
       "      <td>0.268156</td>\n",
       "      <td>0.265087</td>\n",
       "      <td>0.254789</td>\n",
       "      <td>0.239026</td>\n",
       "      <td>0.262057</td>\n",
       "      <td>0.310986</td>\n",
       "      <td>0.264380</td>\n",
       "      <td>0.248688</td>\n",
       "      <td>0.243116</td>\n",
       "      <td>0.242963</td>\n",
       "      <td>0.244857</td>\n",
       "      <td>0.262264</td>\n",
       "      <td>0.344007</td>\n",
       "      <td>0.311437</td>\n",
       "      <td>0.238273</td>\n",
       "      <td>0.227813</td>\n",
       "      <td>0.238992</td>\n",
       "      <td>0.238626</td>\n",
       "      <td>0.258946</td>\n",
       "      <td>0.310066</td>\n",
       "      <td>0.279884</td>\n",
       "    </tr>\n",
       "    <tr>\n",
       "      <th>30486</th>\n",
       "      <td>HOUSEHOLD_2_516_TX_3_validation</td>\n",
       "      <td>0.164704</td>\n",
       "      <td>0.148694</td>\n",
       "      <td>0.164347</td>\n",
       "      <td>0.153357</td>\n",
       "      <td>0.171952</td>\n",
       "      <td>0.192675</td>\n",
       "      <td>0.166695</td>\n",
       "      <td>0.152499</td>\n",
       "      <td>0.151216</td>\n",
       "      <td>0.131934</td>\n",
       "      <td>0.143995</td>\n",
       "      <td>0.155688</td>\n",
       "      <td>0.190768</td>\n",
       "      <td>0.145409</td>\n",
       "      <td>0.150846</td>\n",
       "      <td>0.133590</td>\n",
       "      <td>0.134611</td>\n",
       "      <td>0.135197</td>\n",
       "      <td>0.148553</td>\n",
       "      <td>0.183003</td>\n",
       "      <td>0.172821</td>\n",
       "      <td>0.144301</td>\n",
       "      <td>0.140127</td>\n",
       "      <td>0.142686</td>\n",
       "      <td>0.144080</td>\n",
       "      <td>0.158547</td>\n",
       "      <td>0.191906</td>\n",
       "      <td>0.180816</td>\n",
       "    </tr>\n",
       "    <tr>\n",
       "      <th>30487</th>\n",
       "      <td>HOUSEHOLD_2_516_WI_1_validation</td>\n",
       "      <td>0.097810</td>\n",
       "      <td>0.093281</td>\n",
       "      <td>0.093208</td>\n",
       "      <td>0.094804</td>\n",
       "      <td>0.102164</td>\n",
       "      <td>0.126883</td>\n",
       "      <td>0.117037</td>\n",
       "      <td>0.104441</td>\n",
       "      <td>0.104559</td>\n",
       "      <td>0.100892</td>\n",
       "      <td>0.104523</td>\n",
       "      <td>0.119704</td>\n",
       "      <td>0.155542</td>\n",
       "      <td>0.115639</td>\n",
       "      <td>0.110027</td>\n",
       "      <td>0.107342</td>\n",
       "      <td>0.107523</td>\n",
       "      <td>0.111254</td>\n",
       "      <td>0.125078</td>\n",
       "      <td>0.149440</td>\n",
       "      <td>0.143049</td>\n",
       "      <td>0.106183</td>\n",
       "      <td>0.104043</td>\n",
       "      <td>0.103873</td>\n",
       "      <td>0.106900</td>\n",
       "      <td>0.133332</td>\n",
       "      <td>0.160926</td>\n",
       "      <td>0.153070</td>\n",
       "    </tr>\n",
       "    <tr>\n",
       "      <th>30488</th>\n",
       "      <td>HOUSEHOLD_2_516_WI_2_validation</td>\n",
       "      <td>0.058508</td>\n",
       "      <td>0.057269</td>\n",
       "      <td>0.057210</td>\n",
       "      <td>0.099556</td>\n",
       "      <td>0.102116</td>\n",
       "      <td>0.110251</td>\n",
       "      <td>0.108786</td>\n",
       "      <td>0.109087</td>\n",
       "      <td>0.112764</td>\n",
       "      <td>0.099079</td>\n",
       "      <td>0.112515</td>\n",
       "      <td>0.121708</td>\n",
       "      <td>0.129219</td>\n",
       "      <td>0.106326</td>\n",
       "      <td>0.116681</td>\n",
       "      <td>0.115251</td>\n",
       "      <td>0.115558</td>\n",
       "      <td>0.119019</td>\n",
       "      <td>0.130591</td>\n",
       "      <td>0.141278</td>\n",
       "      <td>0.136536</td>\n",
       "      <td>0.118030</td>\n",
       "      <td>0.116447</td>\n",
       "      <td>0.115218</td>\n",
       "      <td>0.101037</td>\n",
       "      <td>0.112318</td>\n",
       "      <td>0.121482</td>\n",
       "      <td>0.116816</td>\n",
       "    </tr>\n",
       "    <tr>\n",
       "      <th>30489</th>\n",
       "      <td>HOUSEHOLD_2_516_WI_3_validation</td>\n",
       "      <td>0.056479</td>\n",
       "      <td>0.053606</td>\n",
       "      <td>0.053495</td>\n",
       "      <td>0.053657</td>\n",
       "      <td>0.064931</td>\n",
       "      <td>0.068509</td>\n",
       "      <td>0.057046</td>\n",
       "      <td>0.105940</td>\n",
       "      <td>0.108187</td>\n",
       "      <td>0.098921</td>\n",
       "      <td>0.097635</td>\n",
       "      <td>0.111370</td>\n",
       "      <td>0.131200</td>\n",
       "      <td>0.098949</td>\n",
       "      <td>0.107640</td>\n",
       "      <td>0.104075</td>\n",
       "      <td>0.104352</td>\n",
       "      <td>0.106139</td>\n",
       "      <td>0.122871</td>\n",
       "      <td>0.144376</td>\n",
       "      <td>0.135247</td>\n",
       "      <td>0.108662</td>\n",
       "      <td>0.105231</td>\n",
       "      <td>0.104271</td>\n",
       "      <td>0.112338</td>\n",
       "      <td>0.130915</td>\n",
       "      <td>0.153850</td>\n",
       "      <td>0.142797</td>\n",
       "    </tr>\n",
       "  </tbody>\n",
       "</table>\n",
       "</div>"
      ],
      "text/plain": [
       "                                    id        F1        F2        F3  \\\n",
       "30485  HOUSEHOLD_2_516_TX_2_validation  0.274609  0.254821  0.271785   \n",
       "30486  HOUSEHOLD_2_516_TX_3_validation  0.164704  0.148694  0.164347   \n",
       "30487  HOUSEHOLD_2_516_WI_1_validation  0.097810  0.093281  0.093208   \n",
       "30488  HOUSEHOLD_2_516_WI_2_validation  0.058508  0.057269  0.057210   \n",
       "30489  HOUSEHOLD_2_516_WI_3_validation  0.056479  0.053606  0.053495   \n",
       "\n",
       "             F4        F5        F6        F7        F8        F9       F10  \\\n",
       "30485  0.256904  0.284230  0.365086  0.342923  0.268156  0.265087  0.254789   \n",
       "30486  0.153357  0.171952  0.192675  0.166695  0.152499  0.151216  0.131934   \n",
       "30487  0.094804  0.102164  0.126883  0.117037  0.104441  0.104559  0.100892   \n",
       "30488  0.099556  0.102116  0.110251  0.108786  0.109087  0.112764  0.099079   \n",
       "30489  0.053657  0.064931  0.068509  0.057046  0.105940  0.108187  0.098921   \n",
       "\n",
       "            F11       F12       F13       F14       F15       F16       F17  \\\n",
       "30485  0.239026  0.262057  0.310986  0.264380  0.248688  0.243116  0.242963   \n",
       "30486  0.143995  0.155688  0.190768  0.145409  0.150846  0.133590  0.134611   \n",
       "30487  0.104523  0.119704  0.155542  0.115639  0.110027  0.107342  0.107523   \n",
       "30488  0.112515  0.121708  0.129219  0.106326  0.116681  0.115251  0.115558   \n",
       "30489  0.097635  0.111370  0.131200  0.098949  0.107640  0.104075  0.104352   \n",
       "\n",
       "            F18       F19       F20       F21       F22       F23       F24  \\\n",
       "30485  0.244857  0.262264  0.344007  0.311437  0.238273  0.227813  0.238992   \n",
       "30486  0.135197  0.148553  0.183003  0.172821  0.144301  0.140127  0.142686   \n",
       "30487  0.111254  0.125078  0.149440  0.143049  0.106183  0.104043  0.103873   \n",
       "30488  0.119019  0.130591  0.141278  0.136536  0.118030  0.116447  0.115218   \n",
       "30489  0.106139  0.122871  0.144376  0.135247  0.108662  0.105231  0.104271   \n",
       "\n",
       "            F25       F26       F27       F28  \n",
       "30485  0.238626  0.258946  0.310066  0.279884  \n",
       "30486  0.144080  0.158547  0.191906  0.180816  \n",
       "30487  0.106900  0.133332  0.160926  0.153070  \n",
       "30488  0.101037  0.112318  0.121482  0.116816  \n",
       "30489  0.112338  0.130915  0.153850  0.142797  "
      ]
     },
     "execution_count": 21,
     "metadata": {},
     "output_type": "execute_result"
    }
   ],
   "source": [
    "tmp4.tail()"
   ]
  },
  {
   "cell_type": "code",
   "execution_count": 24,
   "metadata": {},
   "outputs": [
    {
     "data": {
      "text/html": [
       "<div>\n",
       "<style scoped>\n",
       "    .dataframe tbody tr th:only-of-type {\n",
       "        vertical-align: middle;\n",
       "    }\n",
       "\n",
       "    .dataframe tbody tr th {\n",
       "        vertical-align: top;\n",
       "    }\n",
       "\n",
       "    .dataframe thead th {\n",
       "        text-align: right;\n",
       "    }\n",
       "</style>\n",
       "<table border=\"1\" class=\"dataframe\">\n",
       "  <thead>\n",
       "    <tr style=\"text-align: right;\">\n",
       "      <th></th>\n",
       "      <th>id</th>\n",
       "      <th>F1</th>\n",
       "      <th>F2</th>\n",
       "      <th>F3</th>\n",
       "      <th>F4</th>\n",
       "      <th>F5</th>\n",
       "      <th>F6</th>\n",
       "      <th>F7</th>\n",
       "      <th>F8</th>\n",
       "      <th>F9</th>\n",
       "      <th>F10</th>\n",
       "      <th>F11</th>\n",
       "      <th>F12</th>\n",
       "      <th>F13</th>\n",
       "      <th>F14</th>\n",
       "      <th>F15</th>\n",
       "      <th>F16</th>\n",
       "      <th>F17</th>\n",
       "      <th>F18</th>\n",
       "      <th>F19</th>\n",
       "      <th>F20</th>\n",
       "      <th>F21</th>\n",
       "      <th>F22</th>\n",
       "      <th>F23</th>\n",
       "      <th>F24</th>\n",
       "      <th>F25</th>\n",
       "      <th>F26</th>\n",
       "      <th>F27</th>\n",
       "      <th>F28</th>\n",
       "    </tr>\n",
       "  </thead>\n",
       "  <tbody>\n",
       "    <tr>\n",
       "      <th>30485</th>\n",
       "      <td>HOUSEHOLD_2_516_TX_2_validation</td>\n",
       "      <td>0.269495</td>\n",
       "      <td>0.241041</td>\n",
       "      <td>0.255100</td>\n",
       "      <td>0.254234</td>\n",
       "      <td>0.283862</td>\n",
       "      <td>0.343438</td>\n",
       "      <td>0.336062</td>\n",
       "      <td>0.268272</td>\n",
       "      <td>0.271538</td>\n",
       "      <td>0.257288</td>\n",
       "      <td>0.246090</td>\n",
       "      <td>0.271424</td>\n",
       "      <td>0.305261</td>\n",
       "      <td>0.285779</td>\n",
       "      <td>0.276899</td>\n",
       "      <td>0.251365</td>\n",
       "      <td>0.253633</td>\n",
       "      <td>0.249968</td>\n",
       "      <td>0.257960</td>\n",
       "      <td>0.334922</td>\n",
       "      <td>0.334364</td>\n",
       "      <td>0.250507</td>\n",
       "      <td>0.238306</td>\n",
       "      <td>0.254383</td>\n",
       "      <td>0.254914</td>\n",
       "      <td>0.273918</td>\n",
       "      <td>0.312291</td>\n",
       "      <td>0.296395</td>\n",
       "    </tr>\n",
       "    <tr>\n",
       "      <th>30486</th>\n",
       "      <td>HOUSEHOLD_2_516_TX_3_validation</td>\n",
       "      <td>0.144135</td>\n",
       "      <td>0.147362</td>\n",
       "      <td>0.162182</td>\n",
       "      <td>0.153773</td>\n",
       "      <td>0.171197</td>\n",
       "      <td>0.190262</td>\n",
       "      <td>0.178329</td>\n",
       "      <td>0.133118</td>\n",
       "      <td>0.157476</td>\n",
       "      <td>0.180157</td>\n",
       "      <td>0.205725</td>\n",
       "      <td>-0.027759</td>\n",
       "      <td>0.214920</td>\n",
       "      <td>0.294073</td>\n",
       "      <td>0.139449</td>\n",
       "      <td>0.291441</td>\n",
       "      <td>0.417996</td>\n",
       "      <td>0.277874</td>\n",
       "      <td>0.138687</td>\n",
       "      <td>0.201983</td>\n",
       "      <td>0.350350</td>\n",
       "      <td>0.184596</td>\n",
       "      <td>0.193736</td>\n",
       "      <td>0.185391</td>\n",
       "      <td>0.196815</td>\n",
       "      <td>0.209165</td>\n",
       "      <td>0.239409</td>\n",
       "      <td>0.207227</td>\n",
       "    </tr>\n",
       "    <tr>\n",
       "      <th>30487</th>\n",
       "      <td>HOUSEHOLD_2_516_WI_1_validation</td>\n",
       "      <td>0.076187</td>\n",
       "      <td>0.073066</td>\n",
       "      <td>0.069983</td>\n",
       "      <td>0.074329</td>\n",
       "      <td>0.089073</td>\n",
       "      <td>0.112642</td>\n",
       "      <td>0.107892</td>\n",
       "      <td>0.083209</td>\n",
       "      <td>0.088119</td>\n",
       "      <td>0.082639</td>\n",
       "      <td>0.084033</td>\n",
       "      <td>0.101428</td>\n",
       "      <td>0.132496</td>\n",
       "      <td>0.090265</td>\n",
       "      <td>0.088611</td>\n",
       "      <td>0.086956</td>\n",
       "      <td>0.087659</td>\n",
       "      <td>0.088329</td>\n",
       "      <td>0.116825</td>\n",
       "      <td>0.147730</td>\n",
       "      <td>0.144005</td>\n",
       "      <td>0.097266</td>\n",
       "      <td>0.099074</td>\n",
       "      <td>0.096567</td>\n",
       "      <td>0.100211</td>\n",
       "      <td>0.113563</td>\n",
       "      <td>0.146059</td>\n",
       "      <td>0.142020</td>\n",
       "    </tr>\n",
       "    <tr>\n",
       "      <th>30488</th>\n",
       "      <td>HOUSEHOLD_2_516_WI_2_validation</td>\n",
       "      <td>0.109087</td>\n",
       "      <td>0.097148</td>\n",
       "      <td>0.089498</td>\n",
       "      <td>0.110385</td>\n",
       "      <td>0.125701</td>\n",
       "      <td>0.137555</td>\n",
       "      <td>0.136924</td>\n",
       "      <td>0.115940</td>\n",
       "      <td>0.118534</td>\n",
       "      <td>0.107793</td>\n",
       "      <td>0.114016</td>\n",
       "      <td>0.128870</td>\n",
       "      <td>0.145974</td>\n",
       "      <td>0.112589</td>\n",
       "      <td>0.119854</td>\n",
       "      <td>0.112029</td>\n",
       "      <td>0.116248</td>\n",
       "      <td>0.117888</td>\n",
       "      <td>0.132672</td>\n",
       "      <td>0.149731</td>\n",
       "      <td>0.139455</td>\n",
       "      <td>0.108360</td>\n",
       "      <td>0.107943</td>\n",
       "      <td>0.102125</td>\n",
       "      <td>0.099421</td>\n",
       "      <td>0.116328</td>\n",
       "      <td>0.132477</td>\n",
       "      <td>0.131206</td>\n",
       "    </tr>\n",
       "    <tr>\n",
       "      <th>30489</th>\n",
       "      <td>HOUSEHOLD_2_516_WI_3_validation</td>\n",
       "      <td>0.056102</td>\n",
       "      <td>0.053566</td>\n",
       "      <td>0.051872</td>\n",
       "      <td>0.055543</td>\n",
       "      <td>0.073900</td>\n",
       "      <td>0.079530</td>\n",
       "      <td>0.078686</td>\n",
       "      <td>0.086843</td>\n",
       "      <td>0.092796</td>\n",
       "      <td>0.083293</td>\n",
       "      <td>0.081464</td>\n",
       "      <td>0.096744</td>\n",
       "      <td>0.115027</td>\n",
       "      <td>0.082286</td>\n",
       "      <td>0.082343</td>\n",
       "      <td>0.081403</td>\n",
       "      <td>0.083318</td>\n",
       "      <td>0.082969</td>\n",
       "      <td>0.101159</td>\n",
       "      <td>0.120148</td>\n",
       "      <td>0.114821</td>\n",
       "      <td>0.082165</td>\n",
       "      <td>0.085088</td>\n",
       "      <td>0.080554</td>\n",
       "      <td>0.088435</td>\n",
       "      <td>0.113262</td>\n",
       "      <td>0.131026</td>\n",
       "      <td>0.125931</td>\n",
       "    </tr>\n",
       "  </tbody>\n",
       "</table>\n",
       "</div>"
      ],
      "text/plain": [
       "                                    id        F1        F2        F3  \\\n",
       "30485  HOUSEHOLD_2_516_TX_2_validation  0.269495  0.241041  0.255100   \n",
       "30486  HOUSEHOLD_2_516_TX_3_validation  0.144135  0.147362  0.162182   \n",
       "30487  HOUSEHOLD_2_516_WI_1_validation  0.076187  0.073066  0.069983   \n",
       "30488  HOUSEHOLD_2_516_WI_2_validation  0.109087  0.097148  0.089498   \n",
       "30489  HOUSEHOLD_2_516_WI_3_validation  0.056102  0.053566  0.051872   \n",
       "\n",
       "             F4        F5        F6        F7        F8        F9       F10  \\\n",
       "30485  0.254234  0.283862  0.343438  0.336062  0.268272  0.271538  0.257288   \n",
       "30486  0.153773  0.171197  0.190262  0.178329  0.133118  0.157476  0.180157   \n",
       "30487  0.074329  0.089073  0.112642  0.107892  0.083209  0.088119  0.082639   \n",
       "30488  0.110385  0.125701  0.137555  0.136924  0.115940  0.118534  0.107793   \n",
       "30489  0.055543  0.073900  0.079530  0.078686  0.086843  0.092796  0.083293   \n",
       "\n",
       "            F11       F12       F13       F14       F15       F16       F17  \\\n",
       "30485  0.246090  0.271424  0.305261  0.285779  0.276899  0.251365  0.253633   \n",
       "30486  0.205725 -0.027759  0.214920  0.294073  0.139449  0.291441  0.417996   \n",
       "30487  0.084033  0.101428  0.132496  0.090265  0.088611  0.086956  0.087659   \n",
       "30488  0.114016  0.128870  0.145974  0.112589  0.119854  0.112029  0.116248   \n",
       "30489  0.081464  0.096744  0.115027  0.082286  0.082343  0.081403  0.083318   \n",
       "\n",
       "            F18       F19       F20       F21       F22       F23       F24  \\\n",
       "30485  0.249968  0.257960  0.334922  0.334364  0.250507  0.238306  0.254383   \n",
       "30486  0.277874  0.138687  0.201983  0.350350  0.184596  0.193736  0.185391   \n",
       "30487  0.088329  0.116825  0.147730  0.144005  0.097266  0.099074  0.096567   \n",
       "30488  0.117888  0.132672  0.149731  0.139455  0.108360  0.107943  0.102125   \n",
       "30489  0.082969  0.101159  0.120148  0.114821  0.082165  0.085088  0.080554   \n",
       "\n",
       "            F25       F26       F27       F28  \n",
       "30485  0.254914  0.273918  0.312291  0.296395  \n",
       "30486  0.196815  0.209165  0.239409  0.207227  \n",
       "30487  0.100211  0.113563  0.146059  0.142020  \n",
       "30488  0.099421  0.116328  0.132477  0.131206  \n",
       "30489  0.088435  0.113262  0.131026  0.125931  "
      ]
     },
     "execution_count": 24,
     "metadata": {},
     "output_type": "execute_result"
    }
   ],
   "source": [
    "\n",
    "tmp3.tail()"
   ]
  },
  {
   "cell_type": "code",
   "execution_count": 25,
   "metadata": {},
   "outputs": [
    {
     "data": {
      "text/html": [
       "<div>\n",
       "<style scoped>\n",
       "    .dataframe tbody tr th:only-of-type {\n",
       "        vertical-align: middle;\n",
       "    }\n",
       "\n",
       "    .dataframe tbody tr th {\n",
       "        vertical-align: top;\n",
       "    }\n",
       "\n",
       "    .dataframe thead th {\n",
       "        text-align: right;\n",
       "    }\n",
       "</style>\n",
       "<table border=\"1\" class=\"dataframe\">\n",
       "  <thead>\n",
       "    <tr style=\"text-align: right;\">\n",
       "      <th></th>\n",
       "      <th>id</th>\n",
       "      <th>F1</th>\n",
       "      <th>F2</th>\n",
       "      <th>F3</th>\n",
       "      <th>F4</th>\n",
       "      <th>F5</th>\n",
       "      <th>F6</th>\n",
       "      <th>F7</th>\n",
       "      <th>F8</th>\n",
       "      <th>F9</th>\n",
       "      <th>F10</th>\n",
       "      <th>F11</th>\n",
       "      <th>F12</th>\n",
       "      <th>F13</th>\n",
       "      <th>F14</th>\n",
       "      <th>F15</th>\n",
       "      <th>F16</th>\n",
       "      <th>F17</th>\n",
       "      <th>F18</th>\n",
       "      <th>F19</th>\n",
       "      <th>F20</th>\n",
       "      <th>F21</th>\n",
       "      <th>F22</th>\n",
       "      <th>F23</th>\n",
       "      <th>F24</th>\n",
       "      <th>F25</th>\n",
       "      <th>F26</th>\n",
       "      <th>F27</th>\n",
       "      <th>F28</th>\n",
       "    </tr>\n",
       "  </thead>\n",
       "  <tbody>\n",
       "    <tr>\n",
       "      <th>30490</th>\n",
       "      <td>FOODS_1_001_CA_1_evaluation</td>\n",
       "      <td>0.909286</td>\n",
       "      <td>0.876865</td>\n",
       "      <td>0.868232</td>\n",
       "      <td>0.829987</td>\n",
       "      <td>1.079470</td>\n",
       "      <td>1.195339</td>\n",
       "      <td>1.051089</td>\n",
       "      <td>0.947232</td>\n",
       "      <td>0.964116</td>\n",
       "      <td>0.940157</td>\n",
       "      <td>0.948035</td>\n",
       "      <td>1.022156</td>\n",
       "      <td>1.263899</td>\n",
       "      <td>1.159840</td>\n",
       "      <td>0.923963</td>\n",
       "      <td>0.872116</td>\n",
       "      <td>0.907151</td>\n",
       "      <td>0.905133</td>\n",
       "      <td>1.014630</td>\n",
       "      <td>1.281301</td>\n",
       "      <td>1.179683</td>\n",
       "      <td>0.907707</td>\n",
       "      <td>0.837280</td>\n",
       "      <td>0.823530</td>\n",
       "      <td>0.833976</td>\n",
       "      <td>0.977012</td>\n",
       "      <td>1.194671</td>\n",
       "      <td>1.168449</td>\n",
       "    </tr>\n",
       "    <tr>\n",
       "      <th>30491</th>\n",
       "      <td>FOODS_1_001_CA_2_evaluation</td>\n",
       "      <td>1.125922</td>\n",
       "      <td>1.130784</td>\n",
       "      <td>1.055562</td>\n",
       "      <td>1.206748</td>\n",
       "      <td>1.269746</td>\n",
       "      <td>1.584282</td>\n",
       "      <td>1.400063</td>\n",
       "      <td>0.915172</td>\n",
       "      <td>0.986566</td>\n",
       "      <td>0.909642</td>\n",
       "      <td>0.901922</td>\n",
       "      <td>1.064120</td>\n",
       "      <td>1.506463</td>\n",
       "      <td>1.265644</td>\n",
       "      <td>0.977572</td>\n",
       "      <td>0.944617</td>\n",
       "      <td>0.955351</td>\n",
       "      <td>0.960568</td>\n",
       "      <td>1.113273</td>\n",
       "      <td>1.508013</td>\n",
       "      <td>1.568594</td>\n",
       "      <td>1.015881</td>\n",
       "      <td>0.944926</td>\n",
       "      <td>0.987723</td>\n",
       "      <td>0.774594</td>\n",
       "      <td>1.030730</td>\n",
       "      <td>1.362614</td>\n",
       "      <td>1.357858</td>\n",
       "    </tr>\n",
       "    <tr>\n",
       "      <th>30492</th>\n",
       "      <td>FOODS_1_001_CA_3_evaluation</td>\n",
       "      <td>1.087786</td>\n",
       "      <td>1.090677</td>\n",
       "      <td>1.033084</td>\n",
       "      <td>0.994754</td>\n",
       "      <td>1.088099</td>\n",
       "      <td>1.249545</td>\n",
       "      <td>1.121976</td>\n",
       "      <td>0.991365</td>\n",
       "      <td>1.124819</td>\n",
       "      <td>1.002626</td>\n",
       "      <td>0.981792</td>\n",
       "      <td>1.113109</td>\n",
       "      <td>1.316564</td>\n",
       "      <td>1.049997</td>\n",
       "      <td>1.049597</td>\n",
       "      <td>1.038145</td>\n",
       "      <td>1.063406</td>\n",
       "      <td>1.071524</td>\n",
       "      <td>1.157459</td>\n",
       "      <td>1.405349</td>\n",
       "      <td>1.417171</td>\n",
       "      <td>1.019436</td>\n",
       "      <td>1.007200</td>\n",
       "      <td>0.992844</td>\n",
       "      <td>0.999626</td>\n",
       "      <td>1.115108</td>\n",
       "      <td>1.186758</td>\n",
       "      <td>1.168864</td>\n",
       "    </tr>\n",
       "    <tr>\n",
       "      <th>30493</th>\n",
       "      <td>FOODS_1_001_CA_4_evaluation</td>\n",
       "      <td>0.399624</td>\n",
       "      <td>0.342678</td>\n",
       "      <td>0.331106</td>\n",
       "      <td>0.336598</td>\n",
       "      <td>0.402779</td>\n",
       "      <td>0.429038</td>\n",
       "      <td>0.441505</td>\n",
       "      <td>0.342629</td>\n",
       "      <td>0.388413</td>\n",
       "      <td>0.363998</td>\n",
       "      <td>0.360884</td>\n",
       "      <td>0.396833</td>\n",
       "      <td>0.420278</td>\n",
       "      <td>0.389779</td>\n",
       "      <td>0.345177</td>\n",
       "      <td>0.342588</td>\n",
       "      <td>0.384903</td>\n",
       "      <td>0.386537</td>\n",
       "      <td>0.433732</td>\n",
       "      <td>0.473272</td>\n",
       "      <td>0.444177</td>\n",
       "      <td>0.363981</td>\n",
       "      <td>0.356915</td>\n",
       "      <td>0.357877</td>\n",
       "      <td>0.373678</td>\n",
       "      <td>0.423823</td>\n",
       "      <td>0.487696</td>\n",
       "      <td>0.461303</td>\n",
       "    </tr>\n",
       "    <tr>\n",
       "      <th>30494</th>\n",
       "      <td>FOODS_1_001_TX_1_evaluation</td>\n",
       "      <td>0.193566</td>\n",
       "      <td>0.190363</td>\n",
       "      <td>0.182831</td>\n",
       "      <td>0.186084</td>\n",
       "      <td>0.189829</td>\n",
       "      <td>0.205109</td>\n",
       "      <td>0.204319</td>\n",
       "      <td>0.303272</td>\n",
       "      <td>0.321049</td>\n",
       "      <td>0.277842</td>\n",
       "      <td>0.283245</td>\n",
       "      <td>0.313116</td>\n",
       "      <td>0.342873</td>\n",
       "      <td>0.269834</td>\n",
       "      <td>0.260324</td>\n",
       "      <td>0.293366</td>\n",
       "      <td>0.307422</td>\n",
       "      <td>0.300666</td>\n",
       "      <td>0.325690</td>\n",
       "      <td>0.346597</td>\n",
       "      <td>0.315347</td>\n",
       "      <td>0.255004</td>\n",
       "      <td>0.253562</td>\n",
       "      <td>0.252858</td>\n",
       "      <td>0.264051</td>\n",
       "      <td>0.283310</td>\n",
       "      <td>0.315661</td>\n",
       "      <td>0.311888</td>\n",
       "    </tr>\n",
       "    <tr>\n",
       "      <th>...</th>\n",
       "      <td>...</td>\n",
       "      <td>...</td>\n",
       "      <td>...</td>\n",
       "      <td>...</td>\n",
       "      <td>...</td>\n",
       "      <td>...</td>\n",
       "      <td>...</td>\n",
       "      <td>...</td>\n",
       "      <td>...</td>\n",
       "      <td>...</td>\n",
       "      <td>...</td>\n",
       "      <td>...</td>\n",
       "      <td>...</td>\n",
       "      <td>...</td>\n",
       "      <td>...</td>\n",
       "      <td>...</td>\n",
       "      <td>...</td>\n",
       "      <td>...</td>\n",
       "      <td>...</td>\n",
       "      <td>...</td>\n",
       "      <td>...</td>\n",
       "      <td>...</td>\n",
       "      <td>...</td>\n",
       "      <td>...</td>\n",
       "      <td>...</td>\n",
       "      <td>...</td>\n",
       "      <td>...</td>\n",
       "      <td>...</td>\n",
       "      <td>...</td>\n",
       "    </tr>\n",
       "    <tr>\n",
       "      <th>60975</th>\n",
       "      <td>HOUSEHOLD_2_516_TX_2_evaluation</td>\n",
       "      <td>0.274609</td>\n",
       "      <td>0.254821</td>\n",
       "      <td>0.271785</td>\n",
       "      <td>0.256904</td>\n",
       "      <td>0.284230</td>\n",
       "      <td>0.365086</td>\n",
       "      <td>0.342923</td>\n",
       "      <td>0.268156</td>\n",
       "      <td>0.265087</td>\n",
       "      <td>0.254789</td>\n",
       "      <td>0.239026</td>\n",
       "      <td>0.262057</td>\n",
       "      <td>0.310986</td>\n",
       "      <td>0.264380</td>\n",
       "      <td>0.248688</td>\n",
       "      <td>0.243116</td>\n",
       "      <td>0.242963</td>\n",
       "      <td>0.244857</td>\n",
       "      <td>0.262264</td>\n",
       "      <td>0.344007</td>\n",
       "      <td>0.311437</td>\n",
       "      <td>0.238273</td>\n",
       "      <td>0.227813</td>\n",
       "      <td>0.238992</td>\n",
       "      <td>0.238626</td>\n",
       "      <td>0.258946</td>\n",
       "      <td>0.310066</td>\n",
       "      <td>0.279884</td>\n",
       "    </tr>\n",
       "    <tr>\n",
       "      <th>60976</th>\n",
       "      <td>HOUSEHOLD_2_516_TX_3_evaluation</td>\n",
       "      <td>0.164704</td>\n",
       "      <td>0.148694</td>\n",
       "      <td>0.164347</td>\n",
       "      <td>0.153357</td>\n",
       "      <td>0.171952</td>\n",
       "      <td>0.192675</td>\n",
       "      <td>0.166695</td>\n",
       "      <td>0.152499</td>\n",
       "      <td>0.151216</td>\n",
       "      <td>0.131934</td>\n",
       "      <td>0.143995</td>\n",
       "      <td>0.155688</td>\n",
       "      <td>0.190768</td>\n",
       "      <td>0.145409</td>\n",
       "      <td>0.150846</td>\n",
       "      <td>0.133590</td>\n",
       "      <td>0.134611</td>\n",
       "      <td>0.135197</td>\n",
       "      <td>0.148553</td>\n",
       "      <td>0.183003</td>\n",
       "      <td>0.172821</td>\n",
       "      <td>0.144301</td>\n",
       "      <td>0.140127</td>\n",
       "      <td>0.142686</td>\n",
       "      <td>0.144080</td>\n",
       "      <td>0.158547</td>\n",
       "      <td>0.191906</td>\n",
       "      <td>0.180816</td>\n",
       "    </tr>\n",
       "    <tr>\n",
       "      <th>60977</th>\n",
       "      <td>HOUSEHOLD_2_516_WI_1_evaluation</td>\n",
       "      <td>0.097810</td>\n",
       "      <td>0.093281</td>\n",
       "      <td>0.093208</td>\n",
       "      <td>0.094804</td>\n",
       "      <td>0.102164</td>\n",
       "      <td>0.126883</td>\n",
       "      <td>0.117037</td>\n",
       "      <td>0.104441</td>\n",
       "      <td>0.104559</td>\n",
       "      <td>0.100892</td>\n",
       "      <td>0.104523</td>\n",
       "      <td>0.119704</td>\n",
       "      <td>0.155542</td>\n",
       "      <td>0.115639</td>\n",
       "      <td>0.110027</td>\n",
       "      <td>0.107342</td>\n",
       "      <td>0.107523</td>\n",
       "      <td>0.111254</td>\n",
       "      <td>0.125078</td>\n",
       "      <td>0.149440</td>\n",
       "      <td>0.143049</td>\n",
       "      <td>0.106183</td>\n",
       "      <td>0.104043</td>\n",
       "      <td>0.103873</td>\n",
       "      <td>0.106900</td>\n",
       "      <td>0.133332</td>\n",
       "      <td>0.160926</td>\n",
       "      <td>0.153070</td>\n",
       "    </tr>\n",
       "    <tr>\n",
       "      <th>60978</th>\n",
       "      <td>HOUSEHOLD_2_516_WI_2_evaluation</td>\n",
       "      <td>0.058508</td>\n",
       "      <td>0.057269</td>\n",
       "      <td>0.057210</td>\n",
       "      <td>0.099556</td>\n",
       "      <td>0.102116</td>\n",
       "      <td>0.110251</td>\n",
       "      <td>0.108786</td>\n",
       "      <td>0.109087</td>\n",
       "      <td>0.112764</td>\n",
       "      <td>0.099079</td>\n",
       "      <td>0.112515</td>\n",
       "      <td>0.121708</td>\n",
       "      <td>0.129219</td>\n",
       "      <td>0.106326</td>\n",
       "      <td>0.116681</td>\n",
       "      <td>0.115251</td>\n",
       "      <td>0.115558</td>\n",
       "      <td>0.119019</td>\n",
       "      <td>0.130591</td>\n",
       "      <td>0.141278</td>\n",
       "      <td>0.136536</td>\n",
       "      <td>0.118030</td>\n",
       "      <td>0.116447</td>\n",
       "      <td>0.115218</td>\n",
       "      <td>0.101037</td>\n",
       "      <td>0.112318</td>\n",
       "      <td>0.121482</td>\n",
       "      <td>0.116816</td>\n",
       "    </tr>\n",
       "    <tr>\n",
       "      <th>60979</th>\n",
       "      <td>HOUSEHOLD_2_516_WI_3_evaluation</td>\n",
       "      <td>0.056479</td>\n",
       "      <td>0.053606</td>\n",
       "      <td>0.053495</td>\n",
       "      <td>0.053657</td>\n",
       "      <td>0.064931</td>\n",
       "      <td>0.068509</td>\n",
       "      <td>0.057046</td>\n",
       "      <td>0.105940</td>\n",
       "      <td>0.108187</td>\n",
       "      <td>0.098921</td>\n",
       "      <td>0.097635</td>\n",
       "      <td>0.111370</td>\n",
       "      <td>0.131200</td>\n",
       "      <td>0.098949</td>\n",
       "      <td>0.107640</td>\n",
       "      <td>0.104075</td>\n",
       "      <td>0.104352</td>\n",
       "      <td>0.106139</td>\n",
       "      <td>0.122871</td>\n",
       "      <td>0.144376</td>\n",
       "      <td>0.135247</td>\n",
       "      <td>0.108662</td>\n",
       "      <td>0.105231</td>\n",
       "      <td>0.104271</td>\n",
       "      <td>0.112338</td>\n",
       "      <td>0.130915</td>\n",
       "      <td>0.153850</td>\n",
       "      <td>0.142797</td>\n",
       "    </tr>\n",
       "  </tbody>\n",
       "</table>\n",
       "<p>30490 rows × 29 columns</p>\n",
       "</div>"
      ],
      "text/plain": [
       "                                    id        F1        F2        F3  \\\n",
       "30490      FOODS_1_001_CA_1_evaluation  0.909286  0.876865  0.868232   \n",
       "30491      FOODS_1_001_CA_2_evaluation  1.125922  1.130784  1.055562   \n",
       "30492      FOODS_1_001_CA_3_evaluation  1.087786  1.090677  1.033084   \n",
       "30493      FOODS_1_001_CA_4_evaluation  0.399624  0.342678  0.331106   \n",
       "30494      FOODS_1_001_TX_1_evaluation  0.193566  0.190363  0.182831   \n",
       "...                                ...       ...       ...       ...   \n",
       "60975  HOUSEHOLD_2_516_TX_2_evaluation  0.274609  0.254821  0.271785   \n",
       "60976  HOUSEHOLD_2_516_TX_3_evaluation  0.164704  0.148694  0.164347   \n",
       "60977  HOUSEHOLD_2_516_WI_1_evaluation  0.097810  0.093281  0.093208   \n",
       "60978  HOUSEHOLD_2_516_WI_2_evaluation  0.058508  0.057269  0.057210   \n",
       "60979  HOUSEHOLD_2_516_WI_3_evaluation  0.056479  0.053606  0.053495   \n",
       "\n",
       "             F4        F5        F6        F7        F8        F9       F10  \\\n",
       "30490  0.829987  1.079470  1.195339  1.051089  0.947232  0.964116  0.940157   \n",
       "30491  1.206748  1.269746  1.584282  1.400063  0.915172  0.986566  0.909642   \n",
       "30492  0.994754  1.088099  1.249545  1.121976  0.991365  1.124819  1.002626   \n",
       "30493  0.336598  0.402779  0.429038  0.441505  0.342629  0.388413  0.363998   \n",
       "30494  0.186084  0.189829  0.205109  0.204319  0.303272  0.321049  0.277842   \n",
       "...         ...       ...       ...       ...       ...       ...       ...   \n",
       "60975  0.256904  0.284230  0.365086  0.342923  0.268156  0.265087  0.254789   \n",
       "60976  0.153357  0.171952  0.192675  0.166695  0.152499  0.151216  0.131934   \n",
       "60977  0.094804  0.102164  0.126883  0.117037  0.104441  0.104559  0.100892   \n",
       "60978  0.099556  0.102116  0.110251  0.108786  0.109087  0.112764  0.099079   \n",
       "60979  0.053657  0.064931  0.068509  0.057046  0.105940  0.108187  0.098921   \n",
       "\n",
       "            F11       F12       F13       F14       F15       F16       F17  \\\n",
       "30490  0.948035  1.022156  1.263899  1.159840  0.923963  0.872116  0.907151   \n",
       "30491  0.901922  1.064120  1.506463  1.265644  0.977572  0.944617  0.955351   \n",
       "30492  0.981792  1.113109  1.316564  1.049997  1.049597  1.038145  1.063406   \n",
       "30493  0.360884  0.396833  0.420278  0.389779  0.345177  0.342588  0.384903   \n",
       "30494  0.283245  0.313116  0.342873  0.269834  0.260324  0.293366  0.307422   \n",
       "...         ...       ...       ...       ...       ...       ...       ...   \n",
       "60975  0.239026  0.262057  0.310986  0.264380  0.248688  0.243116  0.242963   \n",
       "60976  0.143995  0.155688  0.190768  0.145409  0.150846  0.133590  0.134611   \n",
       "60977  0.104523  0.119704  0.155542  0.115639  0.110027  0.107342  0.107523   \n",
       "60978  0.112515  0.121708  0.129219  0.106326  0.116681  0.115251  0.115558   \n",
       "60979  0.097635  0.111370  0.131200  0.098949  0.107640  0.104075  0.104352   \n",
       "\n",
       "            F18       F19       F20       F21       F22       F23       F24  \\\n",
       "30490  0.905133  1.014630  1.281301  1.179683  0.907707  0.837280  0.823530   \n",
       "30491  0.960568  1.113273  1.508013  1.568594  1.015881  0.944926  0.987723   \n",
       "30492  1.071524  1.157459  1.405349  1.417171  1.019436  1.007200  0.992844   \n",
       "30493  0.386537  0.433732  0.473272  0.444177  0.363981  0.356915  0.357877   \n",
       "30494  0.300666  0.325690  0.346597  0.315347  0.255004  0.253562  0.252858   \n",
       "...         ...       ...       ...       ...       ...       ...       ...   \n",
       "60975  0.244857  0.262264  0.344007  0.311437  0.238273  0.227813  0.238992   \n",
       "60976  0.135197  0.148553  0.183003  0.172821  0.144301  0.140127  0.142686   \n",
       "60977  0.111254  0.125078  0.149440  0.143049  0.106183  0.104043  0.103873   \n",
       "60978  0.119019  0.130591  0.141278  0.136536  0.118030  0.116447  0.115218   \n",
       "60979  0.106139  0.122871  0.144376  0.135247  0.108662  0.105231  0.104271   \n",
       "\n",
       "            F25       F26       F27       F28  \n",
       "30490  0.833976  0.977012  1.194671  1.168449  \n",
       "30491  0.774594  1.030730  1.362614  1.357858  \n",
       "30492  0.999626  1.115108  1.186758  1.168864  \n",
       "30493  0.373678  0.423823  0.487696  0.461303  \n",
       "30494  0.264051  0.283310  0.315661  0.311888  \n",
       "...         ...       ...       ...       ...  \n",
       "60975  0.238626  0.258946  0.310066  0.279884  \n",
       "60976  0.144080  0.158547  0.191906  0.180816  \n",
       "60977  0.106900  0.133332  0.160926  0.153070  \n",
       "60978  0.101037  0.112318  0.121482  0.116816  \n",
       "60979  0.112338  0.130915  0.153850  0.142797  \n",
       "\n",
       "[30490 rows x 29 columns]"
      ]
     },
     "execution_count": 25,
     "metadata": {},
     "output_type": "execute_result"
    }
   ],
   "source": [
    "tmp2[30490:]"
   ]
  },
  {
   "cell_type": "code",
   "execution_count": 30,
   "metadata": {},
   "outputs": [],
   "source": [
    "tmp5 = pd.concat([tmp3, tmp2[30490:]])"
   ]
  },
  {
   "cell_type": "code",
   "execution_count": 31,
   "metadata": {},
   "outputs": [],
   "source": [
    "tmp5.to_csv('sub.csv', index=False)"
   ]
  },
  {
   "cell_type": "code",
   "execution_count": null,
   "metadata": {},
   "outputs": [],
   "source": []
  }
 ],
 "metadata": {
  "file_extension": ".py",
  "kernelspec": {
   "display_name": "Python 3",
   "language": "python",
   "name": "python3"
  },
  "language_info": {
   "codemirror_mode": {
    "name": "ipython",
    "version": 3
   },
   "file_extension": ".py",
   "mimetype": "text/x-python",
   "name": "python",
   "nbconvert_exporter": "python",
   "pygments_lexer": "ipython3",
   "version": "3.6.8"
  },
  "mimetype": "text/x-python",
  "name": "python",
  "npconvert_exporter": "python",
  "pygments_lexer": "ipython3",
  "toc": {
   "base_numbering": 1,
   "nav_menu": {},
   "number_sections": false,
   "sideBar": true,
   "skip_h1_title": false,
   "title_cell": "Table of Contents",
   "title_sidebar": "Contents",
   "toc_cell": false,
   "toc_position": {
    "height": "calc(100% - 180px)",
    "left": "10px",
    "top": "150px",
    "width": "384px"
   },
   "toc_section_display": true,
   "toc_window_display": true
  },
  "version": 3
 },
 "nbformat": 4,
 "nbformat_minor": 2
}
